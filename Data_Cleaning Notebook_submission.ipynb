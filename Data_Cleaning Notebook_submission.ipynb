{
 "cells": [
  {
   "cell_type": "markdown",
   "metadata": {
    "application/vnd.databricks.v1+cell": {
     "cellMetadata": {
      "byteLimit": 2048000,
      "rowLimit": 10000
     },
     "inputWidgets": {},
     "nuid": "1cc60b63-4e5d-4597-b1d0-66443e2a7a15",
     "showTitle": false,
     "title": ""
    }
   },
   "source": [
    "##Connecting to S3\n"
   ]
  },
  {
   "cell_type": "markdown",
   "metadata": {
    "application/vnd.databricks.v1+cell": {
     "cellMetadata": {
      "byteLimit": 2048000,
      "rowLimit": 10000
     },
     "inputWidgets": {},
     "nuid": "037e829d-464b-42be-96d1-189a4f813ab8",
     "showTitle": false,
     "title": ""
    }
   },
   "source": [
    "##Patient_records Data"
   ]
  },
  {
   "cell_type": "code",
   "execution_count": 0,
   "metadata": {
    "application/vnd.databricks.v1+cell": {
     "cellMetadata": {
      "byteLimit": 2048000,
      "rowLimit": 10000
     },
     "inputWidgets": {},
     "nuid": "171a4fe4-3b78-4ac0-9798-8a1100cf3597",
     "showTitle": false,
     "title": ""
    }
   },
   "outputs": [
    {
     "output_type": "stream",
     "name": "stdout",
     "output_type": "stream",
     "text": [
      "+----------+------------+--------------+------------------+--------------+----------------+--------------------+-----------+\n|Patient_id|Patient_name|patient_gender|patient_birth_date| patient_phone|    disease_name|                city|hospital_id|\n+----------+------------+--------------+------------------+--------------+----------------+--------------------+-----------+\n|    187158|      Harbir|        Female|        1924-06-30|+91 0112009318|    Galactosemia|            Rourkela|      H1001|\n|    112766|    Brahmdev|        Female|        1948-12-20|+91 1727749552|  Bladder cancer|        Tiruvottiyur|      H1016|\n|    199252|     Ujjawal|          Male|        1980-04-16|+91 8547451606|   Kidney cancer|           Berhampur|      H1009|\n|    133424|     Ballari|        Female|        1969-09-25|+91 0106026841|         Suicide|        Bihar Sharif|      H1017|\n|    172579|     Devnath|        Female|        1946-05-01|+91 1868774631|    Food allergy|         Bidhannagar|      H1019|\n|    171320|       Atasi|          Male|        1967-10-02|+91 9747336855|        Whiplash|            Amravati|      H1013|\n|    107794|      Manish|          Male|        1967-06-06|+91 4354294043|      Sunbathing|              Panvel|      H1004|\n|    130339|       Aakar|        Female|        1925-03-05|+91 2777633911|Drug consumption|        Bihar Sharif|      H1000|\n|    110377|     Gurudas|          Male|        1945-05-06|+91 1232859381|          Dengue|           Kamarhati|      H1001|\n|    149367|        null|          Male|        1925-06-12|+91 1780763280|    Head banging|           Bangalore|      H1013|\n|    156168|        null|          Male|        1976-02-03|+91 5586075345| Fanconi anaemia|              Rajkot|      H1004|\n|    114241|        null|        Female|        1955-01-22|+91 4146391938|   Breast cancer|           Ghaziabad|      H1015|\n|    146382|  Dharmadaas|          Male|        1964-04-29|+91 6345482027|         Anthrax|Bhalswa Jahangir Pur|      H1019|\n|    132748|    Brahmvir|          Male|        1991-11-11|+91 7316972612| Cystic fibrosis|              Ambala|      H1018|\n|    167340|        null|        Female|        1981-01-25|+91 2960004518|    Galactosemia|Surendranagar Dud...|      H1003|\n|    135184|     Bhagvan|        Female|        1966-07-24|+91 0297693485|          Dengue|          Bhimavaram|      H1018|\n|    179662|   Amritkala|        Female|        1933-11-20|+91 0537157280|        Smallpox|              Meerut|      H1018|\n|    184479|      Bandhu|          Male|        1996-10-15|+91 0695289163|  Pollen allergy|           Chinsurah|      H1010|\n|    156988|  Bhagavaana|        Female|        1935-09-16|+91 6071745855|   Breast cancer|        Shahjahanpur|      H1012|\n|    132870|        null|        Female|        1924-11-09|+91 8906694405|        Glaucoma|            Jabalpur|      H1017|\n+----------+------------+--------------+------------------+--------------+----------------+--------------------+-----------+\nonly showing top 20 rows\n\n"
     ]
    }
   ],
   "source": [
    "pat_df = spark.read.options(header= \"True\", inferSchema = \"True\").csv(\"s3://takeobucket/capstone/patients_records/Patient_records.csv\")\n",
    "pat_df.show()"
   ]
  },
  {
   "cell_type": "markdown",
   "metadata": {
    "application/vnd.databricks.v1+cell": {
     "cellMetadata": {
      "byteLimit": 2048000,
      "rowLimit": 10000
     },
     "inputWidgets": {},
     "nuid": "4ef3ae1f-abe6-48b6-bebc-62faf94d7ff4",
     "showTitle": false,
     "title": ""
    }
   },
   "source": [
    "###Checking and counting for Null values in patient table "
   ]
  },
  {
   "cell_type": "code",
   "execution_count": 0,
   "metadata": {
    "application/vnd.databricks.v1+cell": {
     "cellMetadata": {
      "byteLimit": 2048000,
      "rowLimit": 10000
     },
     "inputWidgets": {},
     "nuid": "7c9f00ae-8659-4413-a8fd-1bdaa796cc27",
     "showTitle": false,
     "title": ""
    }
   },
   "outputs": [
    {
     "output_type": "stream",
     "name": "stdout",
     "output_type": "stream",
     "text": [
      "+----------+------------+--------------+------------------+-------------+------------+----+-----------+\n|Patient_id|Patient_name|patient_gender|patient_birth_date|patient_phone|disease_name|city|hospital_id|\n+----------+------------+--------------+------------------+-------------+------------+----+-----------+\n|         0|          17|             0|                 0|            2|           0|   0|          0|\n+----------+------------+--------------+------------------+-------------+------------+----+-----------+\n\n"
     ]
    }
   ],
   "source": [
    "from pyspark.sql.functions import col, when, count\n",
    "df2 = pat_df.select([count(when((col(c).contains('None')) | \n",
    "                                (col(c).contains('NULL')) |\n",
    "                                (col(c).contains('NaN')) |\n",
    "                                (col(c) == ' ') | \n",
    "                                col(c).isNull(), \n",
    "                               True)\n",
    "                            ).alias(c)\n",
    "                    for c in pat_df.columns])\n",
    "df2.show()"
   ]
  },
  {
   "cell_type": "markdown",
   "metadata": {
    "application/vnd.databricks.v1+cell": {
     "cellMetadata": {
      "byteLimit": 2048000,
      "rowLimit": 10000
     },
     "inputWidgets": {},
     "nuid": "19de9546-96e3-4928-831d-8aa0d9c03158",
     "showTitle": false,
     "title": ""
    }
   },
   "source": [
    "###Replacing null values "
   ]
  },
  {
   "cell_type": "code",
   "execution_count": 0,
   "metadata": {
    "application/vnd.databricks.v1+cell": {
     "cellMetadata": {
      "byteLimit": 2048000,
      "rowLimit": 10000
     },
     "inputWidgets": {},
     "nuid": "4015c666-b7fb-4d6e-827e-72a8133b67b9",
     "showTitle": false,
     "title": ""
    }
   },
   "outputs": [
    {
     "output_type": "stream",
     "name": "stdout",
     "output_type": "stream",
     "text": [
      "+----------+------------+--------------+------------------+--------------+----------------+--------------------+-----------+\n|Patient_id|Patient_name|patient_gender|patient_birth_date| patient_phone|    disease_name|                city|hospital_id|\n+----------+------------+--------------+------------------+--------------+----------------+--------------------+-----------+\n|    187158|      Harbir|        Female|        1924-06-30|+91 0112009318|    Galactosemia|            Rourkela|      H1001|\n|    112766|    Brahmdev|        Female|        1948-12-20|+91 1727749552|  Bladder cancer|        Tiruvottiyur|      H1016|\n|    199252|     Ujjawal|          Male|        1980-04-16|+91 8547451606|   Kidney cancer|           Berhampur|      H1009|\n|    133424|     Ballari|        Female|        1969-09-25|+91 0106026841|         Suicide|        Bihar Sharif|      H1017|\n|    172579|     Devnath|        Female|        1946-05-01|+91 1868774631|    Food allergy|         Bidhannagar|      H1019|\n|    171320|       Atasi|          Male|        1967-10-02|+91 9747336855|        Whiplash|            Amravati|      H1013|\n|    107794|      Manish|          Male|        1967-06-06|+91 4354294043|      Sunbathing|              Panvel|      H1004|\n|    130339|       Aakar|        Female|        1925-03-05|+91 2777633911|Drug consumption|        Bihar Sharif|      H1000|\n|    110377|     Gurudas|          Male|        1945-05-06|+91 1232859381|          Dengue|           Kamarhati|      H1001|\n|    149367|          NA|          Male|        1925-06-12|+91 1780763280|    Head banging|           Bangalore|      H1013|\n|    156168|          NA|          Male|        1976-02-03|+91 5586075345| Fanconi anaemia|              Rajkot|      H1004|\n|    114241|          NA|        Female|        1955-01-22|+91 4146391938|   Breast cancer|           Ghaziabad|      H1015|\n|    146382|  Dharmadaas|          Male|        1964-04-29|+91 6345482027|         Anthrax|Bhalswa Jahangir Pur|      H1019|\n|    132748|    Brahmvir|          Male|        1991-11-11|+91 7316972612| Cystic fibrosis|              Ambala|      H1018|\n|    167340|          NA|        Female|        1981-01-25|+91 2960004518|    Galactosemia|Surendranagar Dud...|      H1003|\n|    135184|     Bhagvan|        Female|        1966-07-24|+91 0297693485|          Dengue|          Bhimavaram|      H1018|\n|    179662|   Amritkala|        Female|        1933-11-20|+91 0537157280|        Smallpox|              Meerut|      H1018|\n|    184479|      Bandhu|          Male|        1996-10-15|+91 0695289163|  Pollen allergy|           Chinsurah|      H1010|\n|    156988|  Bhagavaana|        Female|        1935-09-16|+91 6071745855|   Breast cancer|        Shahjahanpur|      H1012|\n|    132870|          NA|        Female|        1924-11-09|+91 8906694405|        Glaucoma|            Jabalpur|      H1017|\n+----------+------------+--------------+------------------+--------------+----------------+--------------------+-----------+\nonly showing top 20 rows\n\n"
     ]
    }
   ],
   "source": [
    "from pyspark.sql.functions import col, when, desc\n",
    "\n",
    "null_representations = ['None', 'null', ' ', 'NULL', 'NaN']\n",
    "\n",
    "pat_cleaned = pat_df\n",
    "for con in pat_df.columns:\n",
    "    pat_cleaned = pat_cleaned.withColumn(con, when(col(con).isin(null_representations) | col(con).isNull(), \"NA\").otherwise(col(con)))\n",
    "pat_cleaned.show()"
   ]
  },
  {
   "cell_type": "markdown",
   "metadata": {
    "application/vnd.databricks.v1+cell": {
     "cellMetadata": {
      "byteLimit": 2048000,
      "rowLimit": 10000
     },
     "inputWidgets": {},
     "nuid": "af6d63de-72ab-474a-8437-30e3b8415823",
     "showTitle": false,
     "title": ""
    }
   },
   "source": [
    "### Null Values before and after Replacement"
   ]
  },
  {
   "cell_type": "code",
   "execution_count": 0,
   "metadata": {
    "application/vnd.databricks.v1+cell": {
     "cellMetadata": {
      "byteLimit": 2048000,
      "rowLimit": 10000
     },
     "inputWidgets": {},
     "nuid": "9d021418-134f-44fa-9693-3f8ba578ea96",
     "showTitle": false,
     "title": ""
    }
   },
   "outputs": [
    {
     "output_type": "stream",
     "name": "stdout",
     "output_type": "stream",
     "text": [
      "Null counts before replacement:\n+----------+------------+--------------+------------------+-------------+------------+----+-----------+\n|Patient_id|Patient_name|patient_gender|patient_birth_date|patient_phone|disease_name|city|hospital_id|\n+----------+------------+--------------+------------------+-------------+------------+----+-----------+\n|         0|          17|             0|                 0|            2|           0|   0|          0|\n+----------+------------+--------------+------------------+-------------+------------+----+-----------+\n\nNull counts after replacement:\n+----------+------------+--------------+------------------+-------------+------------+----+-----------+\n|Patient_id|Patient_name|patient_gender|patient_birth_date|patient_phone|disease_name|city|hospital_id|\n+----------+------------+--------------+------------------+-------------+------------+----+-----------+\n|         0|           0|             0|                 0|            0|           0|   0|          0|\n+----------+------------+--------------+------------------+-------------+------------+----+-----------+\n\n"
     ]
    }
   ],
   "source": [
    "import pyspark.sql.functions as F \n",
    "\n",
    "null_counts_before = pat_df.select([col(c).isNull().cast(\"int\").alias(c) for c in pat_df.columns])\\\n",
    "    .agg(*[F.sum(c).alias(c) for c in pat_df.columns])\n",
    "\n",
    "# Count null values after replacement\n",
    "null_counts_after = pat_cleaned.select([col(c).isNull().cast(\"int\").alias(c) for c in pat_cleaned.columns]).agg(*[F.sum(c).alias(c) for c in pat_cleaned.columns])\n",
    "\n",
    "# Show the counts before and after\n",
    "print(\"Null counts before replacement:\")\n",
    "null_counts_before.show()\n",
    "\n",
    "print(\"Null counts after replacement:\")\n",
    "null_counts_after.show()"
   ]
  },
  {
   "cell_type": "markdown",
   "metadata": {
    "application/vnd.databricks.v1+cell": {
     "cellMetadata": {
      "byteLimit": 2048000,
      "rowLimit": 10000
     },
     "inputWidgets": {},
     "nuid": "1adb9c11-0f1b-44ef-ba5f-f738c632e827",
     "showTitle": false,
     "title": ""
    }
   },
   "source": [
    "### Checking Duplicates & dropping them "
   ]
  },
  {
   "cell_type": "code",
   "execution_count": 0,
   "metadata": {
    "application/vnd.databricks.v1+cell": {
     "cellMetadata": {
      "byteLimit": 2048000,
      "rowLimit": 10000
     },
     "inputWidgets": {},
     "nuid": "7af63f07-5d5a-43fb-813e-39d7bc6dc9ec",
     "showTitle": false,
     "title": ""
    }
   },
   "outputs": [
    {
     "output_type": "stream",
     "name": "stdout",
     "output_type": "stream",
     "text": [
      "+----------+-----+\n|Patient_Id|count|\n+----------+-----+\n+----------+-----+\n\n"
     ]
    }
   ],
   "source": [
    "df3= pat_df.groupBy(\"Patient_Id\").count()\n",
    "df4 = df3.filter(col(\"count\")> 1)\n",
    "df4.show()\n",
    "# there are no duplicate entries "
   ]
  },
  {
   "cell_type": "markdown",
   "metadata": {
    "application/vnd.databricks.v1+cell": {
     "cellMetadata": {
      "byteLimit": 2048000,
      "rowLimit": 10000
     },
     "inputWidgets": {},
     "nuid": "66cba3f2-ab3e-4b1a-a985-9d961f91c59f",
     "showTitle": false,
     "title": ""
    }
   },
   "source": [
    "## Subscribers Data"
   ]
  },
  {
   "cell_type": "code",
   "execution_count": 0,
   "metadata": {
    "application/vnd.databricks.v1+cell": {
     "cellMetadata": {
      "byteLimit": 2048000,
      "rowLimit": 10000
     },
     "inputWidgets": {},
     "nuid": "339bb723-a2d8-45dd-ad4d-873a8af7b765",
     "showTitle": false,
     "title": ""
    }
   },
   "outputs": [
    {
     "output_type": "stream",
     "name": "stdout",
     "output_type": "stream",
     "text": [
      "+----------+----------+-----------+-----------------+----------+------+--------------+-------+--------------------+--------+---------+--------+----------+----------+\n|   sub _id|first_name|  last_name|           Street|Birth_date|Gender|         Phone|Country|                City|Zip Code|Subgrp_id|Elig_ind|  eff_date| term_date|\n+----------+----------+-----------+-----------------+----------+------+--------------+-------+--------------------+--------+---------+--------+----------+----------+\n|SUBID10000|    Harbir|Vishwakarma|       Baria Marg|1924-06-30|Female|+91 0112009318|  India|            Rourkela|  767058|     S107|       Y|1944-06-30|1954-01-14|\n|SUBID10001|  Brahmdev|     Sonkar|        Lala Marg|1948-12-20|Female|+91 1727749552|  India|        Tiruvottiyur|   34639|     S105|       Y|1968-12-20|1970-05-16|\n|SUBID10002|   Ujjawal|       Devi|      Mammen Zila|1980-04-16|  Male|+91 8547451606|  India|           Berhampur|  914455|     S106|       N|2000-04-16|2008-05-04|\n|SUBID10003|   Ballari|     Mishra|       Sahni Zila|1969-09-25|Female|+91 0106026841|  India|        Bihar Sharif|   91481|     S104|       N|1989-09-25|1995-06-05|\n|SUBID10004|   Devnath|  Srivastav|       Magar Zila|1946-05-01|Female|+91 1868774631|  India|         Bidhannagar|  531742|     S110|       N|1966-05-01|1970-12-09|\n|SUBID10005|     Atasi|       Seth|     Khatri Nagar|1967-10-02|  Male|+91 9747336855|  India|            Amravati|  229062|     S104|       Y|1987-10-02|1995-02-13|\n| SUBID1006|    Manish|     Maurya|Swaminathan Chowk|1967-06-06|  Male|+91 4354294043|  India|              Panvel|  438733|     S109|    null|1987-06-06|1995-03-21|\n|SUBID10007|     Aakar|      Yadav|            Swamy|1925-03-05|Female|+91 2777633911|  India|        Bihar Sharif|  535907|     S104|       N|1945-03-05|1946-11-07|\n|SUBID10008|   Gurudas|      Gupta|      Sarin Nagar|1945-05-06|  Male|+91 1232859381|  India|           Kamarhati|  933226|     S103|       Y|1965-05-06|1970-09-16|\n|SUBID10009|      null|      Gupta|    Thakur Circle|1925-06-12|  Male|+91 1780763280|  India|           Bangalore|  957469|     S105|       Y|1945-06-12|1953-08-30|\n| SUBID1010|      null|     Divedi|          Dhillon|1976-02-03|  Male|+91 5586075345|  India|              Rajkot|  911319|     S102|       Y|1996-02-03|2002-01-27|\n|SUBID10011|      null|Vishwakarma|      Rajagopalan|1955-01-22|Female|+91 4146391938|  India|           Ghaziabad|  337042|     S106|       N|1975-01-22|1978-11-02|\n|SUBID10012|Dharmadaas|     Tiwari|             Rama|1964-04-29|  Male|+91 6345482027|  India|Bhalswa Jahangir Pur|  430793|     S103|       N|1984-04-29|1988-02-07|\n|SUBID10013|  Brahmvir|        Rai|        Shah Path|1991-11-11|  Male|+91 7316972612|  India|              Ambala|  249898|     S106|       N|2011-11-11|2020-05-23|\n|SUBID10014|      null|  Srivastav|     Chandra Path|1981-01-25|Female|+91 2960004518|  India|Surendranagar Dud...|  111966|     S102|       N|2001-01-25|2005-07-13|\n|SUBID10015|   Bhagvan|  Srivastav|            Edwin|1966-07-24|Female|+91 0297693485|  India|          Bhimavaram|  436513|     S105|       Y|1986-07-24|1988-02-04|\n|SUBID10016| Amritkala|  Srivastav|        Guha Path|1933-11-20|Female|+91 0537157280|  India|              Meerut|  863467|     S106|       Y|1953-11-20|1955-07-29|\n|SUBID10017|    Bandhu|       Seth|        Varughese|1996-10-15|  Male|+91 0695289163|  India|           Chinsurah|  136713|     S108|       N|2016-10-15|2018-06-08|\n|SUBID10018|Bhagavaana|      Kumar|    Kulkarni Zila|1935-09-16|Female|+91 6071745855|  India|        Shahjahanpur|  597276|     S101|       N|1955-09-16|1958-05-31|\n|SUBID10019|      null|     Maurya|     Sharaf Nagar|1924-11-09|Female|+91 8906694405|  India|            Jabalpur|  958538|     S104|       N|1944-11-09|1951-10-14|\n+----------+----------+-----------+-----------------+----------+------+--------------+-------+--------------------+--------+---------+--------+----------+----------+\nonly showing top 20 rows\n\n"
     ]
    }
   ],
   "source": [
    "sub_df = spark.read.options(header= \"True\", inferSchema = \"True\").csv(\"s3://takeobucket/capstone/subscriber/subscriber.csv\")\n",
    "sub_df.show()"
   ]
  },
  {
   "cell_type": "markdown",
   "metadata": {
    "application/vnd.databricks.v1+cell": {
     "cellMetadata": {
      "byteLimit": 2048000,
      "rowLimit": 10000
     },
     "inputWidgets": {},
     "nuid": "0d697b0a-d843-4c8d-8915-1b67b1b27d0a",
     "showTitle": false,
     "title": ""
    }
   },
   "source": [
    "###Checking and counting for Null values in Subscribers table"
   ]
  },
  {
   "cell_type": "code",
   "execution_count": 0,
   "metadata": {
    "application/vnd.databricks.v1+cell": {
     "cellMetadata": {
      "byteLimit": 2048000,
      "rowLimit": 10000
     },
     "inputWidgets": {},
     "nuid": "e86e7360-bfa1-4dee-badd-f4a0b45cd81b",
     "showTitle": false,
     "title": ""
    }
   },
   "outputs": [
    {
     "output_type": "stream",
     "name": "stdout",
     "output_type": "stream",
     "text": [
      "+-------+----------+---------+------+----------+------+-----+-------+----+--------+---------+--------+--------+---------+\n|sub _id|first_name|last_name|Street|Birth_date|Gender|Phone|Country|City|Zip Code|Subgrp_id|Elig_ind|eff_date|term_date|\n+-------+----------+---------+------+----------+------+-----+-------+----+--------+---------+--------+--------+---------+\n|      0|        27|        0|     0|         0|     0|    3|      0|   0|       0|        2|       4|       0|        0|\n+-------+----------+---------+------+----------+------+-----+-------+----+--------+---------+--------+--------+---------+\n\n"
     ]
    }
   ],
   "source": [
    "df5 = sub_df.select([count(when((col(c).contains('None')) | \n",
    "                                (col(c).contains('NULL')) | \n",
    "                                (col(c).contains('NaN')) |\n",
    "                                (col(c) == ' ') | \n",
    "                                col(c).isNull(), \n",
    "                               True)\n",
    "                            ).alias(c)\n",
    "                    for c in sub_df.columns])\n",
    "df5.show()"
   ]
  },
  {
   "cell_type": "markdown",
   "metadata": {
    "application/vnd.databricks.v1+cell": {
     "cellMetadata": {
      "byteLimit": 2048000,
      "rowLimit": 10000
     },
     "inputWidgets": {},
     "nuid": "8910c0b5-baa7-404a-aa45-46f2988b95c4",
     "showTitle": false,
     "title": ""
    }
   },
   "source": [
    "###Replacing null values "
   ]
  },
  {
   "cell_type": "code",
   "execution_count": 0,
   "metadata": {
    "application/vnd.databricks.v1+cell": {
     "cellMetadata": {
      "byteLimit": 2048000,
      "rowLimit": 10000
     },
     "inputWidgets": {},
     "nuid": "91d1e971-433d-49f6-8e28-dd8f32e72728",
     "showTitle": false,
     "title": ""
    }
   },
   "outputs": [
    {
     "output_type": "stream",
     "name": "stdout",
     "output_type": "stream",
     "text": [
      "+----------+----------+-----------+-----------------+----------+------+--------------+-------+--------------------+--------+---------+--------+----------+----------+\n|   sub _id|first_name|  last_name|           Street|Birth_date|Gender|         Phone|Country|                City|Zip Code|Subgrp_id|Elig_ind|  eff_date| term_date|\n+----------+----------+-----------+-----------------+----------+------+--------------+-------+--------------------+--------+---------+--------+----------+----------+\n|SUBID10000|    Harbir|Vishwakarma|       Baria Marg|1924-06-30|Female|+91 0112009318|  India|            Rourkela|  767058|     S107|       Y|1944-06-30|1954-01-14|\n|SUBID10001|  Brahmdev|     Sonkar|        Lala Marg|1948-12-20|Female|+91 1727749552|  India|        Tiruvottiyur|   34639|     S105|       Y|1968-12-20|1970-05-16|\n|SUBID10002|   Ujjawal|       Devi|      Mammen Zila|1980-04-16|  Male|+91 8547451606|  India|           Berhampur|  914455|     S106|       N|2000-04-16|2008-05-04|\n|SUBID10003|   Ballari|     Mishra|       Sahni Zila|1969-09-25|Female|+91 0106026841|  India|        Bihar Sharif|   91481|     S104|       N|1989-09-25|1995-06-05|\n|SUBID10004|   Devnath|  Srivastav|       Magar Zila|1946-05-01|Female|+91 1868774631|  India|         Bidhannagar|  531742|     S110|       N|1966-05-01|1970-12-09|\n|SUBID10005|     Atasi|       Seth|     Khatri Nagar|1967-10-02|  Male|+91 9747336855|  India|            Amravati|  229062|     S104|       Y|1987-10-02|1995-02-13|\n| SUBID1006|    Manish|     Maurya|Swaminathan Chowk|1967-06-06|  Male|+91 4354294043|  India|              Panvel|  438733|     S109|      NA|1987-06-06|1995-03-21|\n|SUBID10007|     Aakar|      Yadav|            Swamy|1925-03-05|Female|+91 2777633911|  India|        Bihar Sharif|  535907|     S104|       N|1945-03-05|1946-11-07|\n|SUBID10008|   Gurudas|      Gupta|      Sarin Nagar|1945-05-06|  Male|+91 1232859381|  India|           Kamarhati|  933226|     S103|       Y|1965-05-06|1970-09-16|\n|SUBID10009|        NA|      Gupta|    Thakur Circle|1925-06-12|  Male|+91 1780763280|  India|           Bangalore|  957469|     S105|       Y|1945-06-12|1953-08-30|\n| SUBID1010|        NA|     Divedi|          Dhillon|1976-02-03|  Male|+91 5586075345|  India|              Rajkot|  911319|     S102|       Y|1996-02-03|2002-01-27|\n|SUBID10011|        NA|Vishwakarma|      Rajagopalan|1955-01-22|Female|+91 4146391938|  India|           Ghaziabad|  337042|     S106|       N|1975-01-22|1978-11-02|\n|SUBID10012|Dharmadaas|     Tiwari|             Rama|1964-04-29|  Male|+91 6345482027|  India|Bhalswa Jahangir Pur|  430793|     S103|       N|1984-04-29|1988-02-07|\n|SUBID10013|  Brahmvir|        Rai|        Shah Path|1991-11-11|  Male|+91 7316972612|  India|              Ambala|  249898|     S106|       N|2011-11-11|2020-05-23|\n|SUBID10014|        NA|  Srivastav|     Chandra Path|1981-01-25|Female|+91 2960004518|  India|Surendranagar Dud...|  111966|     S102|       N|2001-01-25|2005-07-13|\n|SUBID10015|   Bhagvan|  Srivastav|            Edwin|1966-07-24|Female|+91 0297693485|  India|          Bhimavaram|  436513|     S105|       Y|1986-07-24|1988-02-04|\n|SUBID10016| Amritkala|  Srivastav|        Guha Path|1933-11-20|Female|+91 0537157280|  India|              Meerut|  863467|     S106|       Y|1953-11-20|1955-07-29|\n|SUBID10017|    Bandhu|       Seth|        Varughese|1996-10-15|  Male|+91 0695289163|  India|           Chinsurah|  136713|     S108|       N|2016-10-15|2018-06-08|\n|SUBID10018|Bhagavaana|      Kumar|    Kulkarni Zila|1935-09-16|Female|+91 6071745855|  India|        Shahjahanpur|  597276|     S101|       N|1955-09-16|1958-05-31|\n|SUBID10019|        NA|     Maurya|     Sharaf Nagar|1924-11-09|Female|+91 8906694405|  India|            Jabalpur|  958538|     S104|       N|1944-11-09|1951-10-14|\n+----------+----------+-----------+-----------------+----------+------+--------------+-------+--------------------+--------+---------+--------+----------+----------+\nonly showing top 20 rows\n\n"
     ]
    }
   ],
   "source": [
    "null_representations = ['None', 'null', ' ', 'isnull','NaN']\n",
    "\n",
    "sub_cleaned = sub_df\n",
    "for con in sub_df.columns:\n",
    "    # Replacing representations of null values with \"NA\"\n",
    "    sub_cleaned = sub_cleaned.withColumn(con, when(col(con).isin(null_representations) | col(con).isNull(), \"NA\").otherwise(col(con)))\n",
    "sub_cleaned.show()"
   ]
  },
  {
   "cell_type": "markdown",
   "metadata": {
    "application/vnd.databricks.v1+cell": {
     "cellMetadata": {
      "byteLimit": 2048000,
      "rowLimit": 10000
     },
     "inputWidgets": {},
     "nuid": "f7dd705f-3ea7-4274-b46e-c5caeff98c10",
     "showTitle": false,
     "title": ""
    }
   },
   "source": [
    "### Null Values before and after Replacement"
   ]
  },
  {
   "cell_type": "code",
   "execution_count": 0,
   "metadata": {
    "application/vnd.databricks.v1+cell": {
     "cellMetadata": {
      "byteLimit": 2048000,
      "rowLimit": 10000
     },
     "inputWidgets": {},
     "nuid": "c401150b-d549-4452-bd39-c4c2a908c591",
     "showTitle": false,
     "title": ""
    }
   },
   "outputs": [
    {
     "output_type": "stream",
     "name": "stdout",
     "output_type": "stream",
     "text": [
      "Null counts before replacement:\n+-------+----------+---------+------+----------+------+-----+-------+----+--------+---------+--------+--------+---------+\n|sub _id|first_name|last_name|Street|Birth_date|Gender|Phone|Country|City|Zip Code|Subgrp_id|Elig_ind|eff_date|term_date|\n+-------+----------+---------+------+----------+------+-----+-------+----+--------+---------+--------+--------+---------+\n|      0|        27|        0|     0|         0|     0|    3|      0|   0|       0|        2|       4|       0|        0|\n+-------+----------+---------+------+----------+------+-----+-------+----+--------+---------+--------+--------+---------+\n\nNull counts after replacement:\n+-------+----------+---------+------+----------+------+-----+-------+----+--------+---------+--------+--------+---------+\n|sub _id|first_name|last_name|Street|Birth_date|Gender|Phone|Country|City|Zip Code|Subgrp_id|Elig_ind|eff_date|term_date|\n+-------+----------+---------+------+----------+------+-----+-------+----+--------+---------+--------+--------+---------+\n|      0|         0|        0|     0|         0|     0|    0|      0|   0|       0|        0|       0|       0|        0|\n+-------+----------+---------+------+----------+------+-----+-------+----+--------+---------+--------+--------+---------+\n\n"
     ]
    }
   ],
   "source": [
    "null_counts_before = sub_df.select([col(c).isNull().cast(\"int\").alias(c) for c in sub_df.columns])\\\n",
    "    .agg(*[F.sum(c).alias(c) for c in sub_df.columns])\n",
    "\n",
    "# Count null values after replacement\n",
    "null_counts_after = sub_cleaned.select([col(c).isNull().cast(\"int\").alias(c) for c in sub_cleaned.columns])\\\n",
    "    .agg(*[F.sum(c).alias(c) for c in sub_cleaned.columns])\n",
    "\n",
    "# Show the counts before and after\n",
    "print(\"Null counts before replacement:\")\n",
    "null_counts_before.show()\n",
    "\n",
    "print(\"Null counts after replacement:\")\n",
    "null_counts_after.show()"
   ]
  },
  {
   "cell_type": "markdown",
   "metadata": {
    "application/vnd.databricks.v1+cell": {
     "cellMetadata": {
      "byteLimit": 2048000,
      "rowLimit": 10000
     },
     "inputWidgets": {},
     "nuid": "66b7584b-d83e-4be1-9afd-260cfef9dad6",
     "showTitle": false,
     "title": ""
    }
   },
   "source": [
    "### Checking Duplicates & dropping them "
   ]
  },
  {
   "cell_type": "code",
   "execution_count": 0,
   "metadata": {
    "application/vnd.databricks.v1+cell": {
     "cellMetadata": {
      "byteLimit": 2048000,
      "rowLimit": 10000
     },
     "inputWidgets": {},
     "nuid": "94282c9e-4897-4e9c-b41d-7d6b10139c95",
     "showTitle": false,
     "title": ""
    }
   },
   "outputs": [
    {
     "output_type": "stream",
     "name": "stdout",
     "output_type": "stream",
     "text": [
      "+-------------+-----+\n|subscriber_id|count|\n+-------------+-----+\n|   SUBID10023|    1|\n|   SUBID10059|    1|\n|   SUBID10078|    1|\n|   SUBID10083|    1|\n|   SUBID10046|    1|\n|   SUBID10084|    1|\n|   SUBID10090|    1|\n|    SUBID1034|    1|\n|   SUBID10018|    1|\n|    SUBID1065|    1|\n|   SUBID10017|    1|\n|   SUBID10057|    1|\n|   SUBID10007|    1|\n|   SUBID10089|    1|\n|   SUBID10066|    1|\n|   SUBID10071|    1|\n|   SUBID10070|    1|\n|   SUBID10094|    1|\n|   SUBID10051|    1|\n|   SUBID10055|    1|\n+-------------+-----+\nonly showing top 20 rows\n\n+-------------+-----+\n|subscriber_id|count|\n+-------------+-----+\n+-------------+-----+\n\n"
     ]
    }
   ],
   "source": [
    "\n",
    "df6 = sub_df.withColumnRenamed(\"sub _id\", \"subscriber_id\")\n",
    "df7 = df6.groupBy(\"subscriber_id\").count().orderBy(desc(\"count\"))\n",
    "df8 = df7.filter(col(\"count\")> 1)\n",
    "df7.show()\n",
    "df8.show()"
   ]
  },
  {
   "cell_type": "markdown",
   "metadata": {
    "application/vnd.databricks.v1+cell": {
     "cellMetadata": {
      "byteLimit": 2048000,
      "rowLimit": 10000
     },
     "inputWidgets": {},
     "nuid": "d5362fcc-4815-4187-81fd-1535ead48cca",
     "showTitle": false,
     "title": ""
    }
   },
   "source": [
    "## Claims Data"
   ]
  },
  {
   "cell_type": "code",
   "execution_count": 0,
   "metadata": {
    "application/vnd.databricks.v1+cell": {
     "cellMetadata": {
      "byteLimit": 2048000,
      "rowLimit": 10000
     },
     "inputWidgets": {},
     "nuid": "b5259028-1ae2-43ec-8139-6797591dc43d",
     "showTitle": false,
     "title": ""
    }
   },
   "outputs": [
    {
     "output_type": "stream",
     "name": "stdout",
     "output_type": "stream",
     "text": [
      "+-----------------+----------+------------+----------+--------+----------------+----------------+----------+\n|Claim_Or_Rejected|    SUB_ID|claim_amount|claim_date|claim_id|      claim_type|    disease_name|patient_id|\n+-----------------+----------+------------+----------+--------+----------------+----------------+----------+\n|                N| SUBID1000|       79874|1949-03-14|       0| claims of value|    Galactosemia|    187158|\n|              NaN|SUBID10001|      151142|1970-03-16|       1|claims of policy|  Bladder cancer|    112766|\n|              NaN|SUBID10002|       59924|2008-02-03|       2| claims of value|   Kidney cancer|    199252|\n|              NaN|SUBID10003|      143120|1995-02-08|       3|  claims of fact|         Suicide|    133424|\n|                Y|SUBID10004|      168634|1967-05-23|       4| claims of value|    Food allergy|    172579|\n|              NaN|SUBID10005|       64840|1991-10-04|       5|claims of policy|        Whiplash|    171320|\n|                N| SUBID1006|       26800|1991-03-26|       6|  claims of fact|      Sunbathing|    107794|\n|              NaN|SUBID10007|      177186|1946-09-05|       7| claims of value|Drug consumption|    130339|\n|                N|SUBID10008|      141123|1966-06-20|       8|  claims of fact|          Dengue|    110377|\n|                N|SUBID10009|       88540|1945-12-29|       9| claims of value|    Head banging|    149367|\n|                N| SUBID1010|       29150|1999-01-25|      10| claims of value| Fanconi anaemia|    156168|\n|                Y|SUBID10011|       40897|1975-02-08|      11| claims of value|   Breast cancer|    114241|\n|              NaN|SUBID10012|       75983|1985-02-12|      12| claims of value|         Anthrax|    146382|\n|              NaN|SUBID10013|      192340|2014-07-30|      13|  claims of fact| Cystic fibrosis|    132748|\n|                N|SUBID10014|      118628|2003-12-18|      14| claims of value|    Galactosemia|    167340|\n|                Y|SUBID10015|      100224|1986-08-02|      15| claims of value|          Dengue|    135184|\n|                N|SUBID10016|       42860|1955-01-20|      16| claims of value|        Smallpox|    179662|\n|                N|SUBID10017|      161786|2017-06-01|      17|claims of policy|  Pollen allergy|    184479|\n|              NaN|SUBID10018|       66129|1956-01-04|      18|  claims of fact|   Breast cancer|    156988|\n|              NaN|SUBID10019|      182552|1948-07-26|      19| claims of value|        Glaucoma|    132870|\n+-----------------+----------+------------+----------+--------+----------------+----------------+----------+\nonly showing top 20 rows\n\n"
     ]
    }
   ],
   "source": [
    "claims_df = spark.read.options(header= \"True\", inferSchema = \"True\").json(\"s3://takeobucket/capstone/claims/claims (1).json\")\n",
    "claims_df.show()"
   ]
  },
  {
   "cell_type": "markdown",
   "metadata": {
    "application/vnd.databricks.v1+cell": {
     "cellMetadata": {
      "byteLimit": 2048000,
      "rowLimit": 10000
     },
     "inputWidgets": {},
     "nuid": "509c12b0-d5bc-400f-953c-d2b100d2a292",
     "showTitle": false,
     "title": ""
    }
   },
   "source": [
    "###Checking and counting for Null values in claims table "
   ]
  },
  {
   "cell_type": "code",
   "execution_count": 0,
   "metadata": {
    "application/vnd.databricks.v1+cell": {
     "cellMetadata": {
      "byteLimit": 2048000,
      "rowLimit": 10000
     },
     "inputWidgets": {},
     "nuid": "b978bd8e-6172-4d10-980b-028c43025362",
     "showTitle": false,
     "title": ""
    }
   },
   "outputs": [
    {
     "output_type": "stream",
     "name": "stdout",
     "output_type": "stream",
     "text": [
      "+-----------------+------+------------+----------+--------+----------+------------+----------+\n|Claim_Or_Rejected|SUB_ID|claim_amount|claim_date|claim_id|claim_type|disease_name|patient_id|\n+-----------------+------+------------+----------+--------+----------+------------+----------+\n|               30|     0|           0|         0|       0|         0|           0|         0|\n+-----------------+------+------------+----------+--------+----------+------------+----------+\n\n"
     ]
    }
   ],
   "source": [
    "\n",
    "df5 = claims_df.select([count(when((col(c).contains('None')) | \n",
    "                                (col(c).contains('NULL')) | \n",
    "                                (col(c).contains('NaN')) |\n",
    "                                (col(c) == '') | \n",
    "                                col(c).isNull(), \n",
    "                               True)\n",
    "                            ).alias(c)\n",
    "                    for c in claims_df.columns])\n",
    "df5.show()"
   ]
  },
  {
   "cell_type": "markdown",
   "metadata": {
    "application/vnd.databricks.v1+cell": {
     "cellMetadata": {
      "byteLimit": 2048000,
      "rowLimit": 10000
     },
     "inputWidgets": {},
     "nuid": "24f7e990-97f4-4b2c-b549-f00eaa86121b",
     "showTitle": false,
     "title": ""
    }
   },
   "source": [
    "### Replacing Null Values"
   ]
  },
  {
   "cell_type": "code",
   "execution_count": 0,
   "metadata": {
    "application/vnd.databricks.v1+cell": {
     "cellMetadata": {
      "byteLimit": 2048000,
      "rowLimit": 10000
     },
     "inputWidgets": {},
     "nuid": "f21b6871-e7ba-46cb-b6e6-047e6ecf7b52",
     "showTitle": false,
     "title": ""
    }
   },
   "outputs": [
    {
     "output_type": "stream",
     "name": "stdout",
     "output_type": "stream",
     "text": [
      "+-----------------+----------+------------+----------+--------+----------------+----------------+----------+\n|Claim_Or_Rejected|    SUB_ID|claim_amount|claim_date|claim_id|      claim_type|    disease_name|patient_id|\n+-----------------+----------+------------+----------+--------+----------------+----------------+----------+\n|                N| SUBID1000|       79874|1949-03-14|       0| claims of value|    Galactosemia|    187158|\n|               NA|SUBID10001|      151142|1970-03-16|       1|claims of policy|  Bladder cancer|    112766|\n|               NA|SUBID10002|       59924|2008-02-03|       2| claims of value|   Kidney cancer|    199252|\n|               NA|SUBID10003|      143120|1995-02-08|       3|  claims of fact|         Suicide|    133424|\n|                Y|SUBID10004|      168634|1967-05-23|       4| claims of value|    Food allergy|    172579|\n|               NA|SUBID10005|       64840|1991-10-04|       5|claims of policy|        Whiplash|    171320|\n|                N| SUBID1006|       26800|1991-03-26|       6|  claims of fact|      Sunbathing|    107794|\n|               NA|SUBID10007|      177186|1946-09-05|       7| claims of value|Drug consumption|    130339|\n|                N|SUBID10008|      141123|1966-06-20|       8|  claims of fact|          Dengue|    110377|\n|                N|SUBID10009|       88540|1945-12-29|       9| claims of value|    Head banging|    149367|\n|                N| SUBID1010|       29150|1999-01-25|      10| claims of value| Fanconi anaemia|    156168|\n|                Y|SUBID10011|       40897|1975-02-08|      11| claims of value|   Breast cancer|    114241|\n|               NA|SUBID10012|       75983|1985-02-12|      12| claims of value|         Anthrax|    146382|\n|               NA|SUBID10013|      192340|2014-07-30|      13|  claims of fact| Cystic fibrosis|    132748|\n|                N|SUBID10014|      118628|2003-12-18|      14| claims of value|    Galactosemia|    167340|\n|                Y|SUBID10015|      100224|1986-08-02|      15| claims of value|          Dengue|    135184|\n|                N|SUBID10016|       42860|1955-01-20|      16| claims of value|        Smallpox|    179662|\n|                N|SUBID10017|      161786|2017-06-01|      17|claims of policy|  Pollen allergy|    184479|\n|               NA|SUBID10018|       66129|1956-01-04|      18|  claims of fact|   Breast cancer|    156988|\n|               NA|SUBID10019|      182552|1948-07-26|      19| claims of value|        Glaucoma|    132870|\n+-----------------+----------+------------+----------+--------+----------------+----------------+----------+\nonly showing top 20 rows\n\n"
     ]
    }
   ],
   "source": [
    "null_representations = ['None', 'null', ' ', 'isnull','NaN']\n",
    "\n",
    "claim_cleaned = claims_df\n",
    "for con in claims_df.columns:\n",
    "    # Replacing representations of null values with \"NA\"\n",
    "    claim_cleaned = claim_cleaned.withColumn(con, when(col(con).isin(null_representations) | col(con).isNull(), \"NA\").otherwise(col(con)))\n",
    "claim_cleaned.show()"
   ]
  },
  {
   "cell_type": "markdown",
   "metadata": {
    "application/vnd.databricks.v1+cell": {
     "cellMetadata": {
      "byteLimit": 2048000,
      "rowLimit": 10000
     },
     "inputWidgets": {},
     "nuid": "0b1beeeb-88e8-4a0d-b08c-1a77c781672c",
     "showTitle": false,
     "title": ""
    }
   },
   "source": [
    "### NaN Values before and after Replacement"
   ]
  },
  {
   "cell_type": "code",
   "execution_count": 0,
   "metadata": {
    "application/vnd.databricks.v1+cell": {
     "cellMetadata": {
      "byteLimit": 2048000,
      "rowLimit": 10000
     },
     "inputWidgets": {},
     "nuid": "1d1e9fe7-cab8-4e98-80dc-8abd5c0fe5be",
     "showTitle": false,
     "title": ""
    }
   },
   "outputs": [
    {
     "output_type": "stream",
     "name": "stdout",
     "output_type": "stream",
     "text": [
      "'NaN' counts before replacement:\n+-----------------+------+------------+----------+--------+----------+------------+----------+\n|Claim_Or_Rejected|SUB_ID|claim_amount|claim_date|claim_id|claim_type|disease_name|patient_id|\n+-----------------+------+------------+----------+--------+----------+------------+----------+\n|               30|     0|           0|         0|       0|         0|           0|         0|\n+-----------------+------+------------+----------+--------+----------+------------+----------+\n\n'NaN' counts after replacement:\n+-----------------+------+------------+----------+--------+----------+------------+----------+\n|Claim_Or_Rejected|SUB_ID|claim_amount|claim_date|claim_id|claim_type|disease_name|patient_id|\n+-----------------+------+------------+----------+--------+----------+------------+----------+\n|                0|     0|           0|         0|       0|         0|           0|         0|\n+-----------------+------+------------+----------+--------+----------+------------+----------+\n\n"
     ]
    }
   ],
   "source": [
    "\n",
    "nan_counts_before = claims_df.select([col(c).isin('NaN').cast(\"int\").alias(c) for c in claims_df.columns]) \\\n",
    "    .agg(*[F.sum(c).alias(c) for c in claims_df.columns])\n",
    "\n",
    "\n",
    "nan_counts_after = claim_cleaned.select([col(c).isin('NaN').cast(\"int\").alias(c) for c in claim_cleaned.columns]) \\\n",
    "    .agg(*[F.sum(c).alias(c) for c in claim_cleaned.columns])\n",
    "\n",
    "print(\"'NaN' counts before replacement:\")\n",
    "nan_counts_before.show()\n",
    "\n",
    "print(\"'NaN' counts after replacement:\")\n",
    "nan_counts_after.show()"
   ]
  },
  {
   "cell_type": "markdown",
   "metadata": {
    "application/vnd.databricks.v1+cell": {
     "cellMetadata": {
      "byteLimit": 2048000,
      "rowLimit": 10000
     },
     "inputWidgets": {},
     "nuid": "14497b07-3336-48ea-890e-2dba96f5bfd5",
     "showTitle": false,
     "title": ""
    }
   },
   "source": [
    "### Checking Duplicates & dropping them "
   ]
  },
  {
   "cell_type": "code",
   "execution_count": 0,
   "metadata": {
    "application/vnd.databricks.v1+cell": {
     "cellMetadata": {
      "byteLimit": 2048000,
      "rowLimit": 10000
     },
     "inputWidgets": {},
     "nuid": "0f0d4744-e06b-4b7e-95c4-354af8467f77",
     "showTitle": false,
     "title": ""
    }
   },
   "outputs": [
    {
     "output_type": "stream",
     "name": "stdout",
     "output_type": "stream",
     "text": [
      "+--------+-----+\n|claim_id|count|\n+--------+-----+\n|       0|    1|\n+--------+-----+\n\n"
     ]
    }
   ],
   "source": [
    "df6 = df5.groupBy(\"claim_id\").count()\n",
    "df7 = df6.filter(col(\"count\")> 1)\n",
    "df6.show()\n",
    "#there are no duplicate entries"
   ]
  },
  {
   "cell_type": "markdown",
   "metadata": {
    "application/vnd.databricks.v1+cell": {
     "cellMetadata": {
      "byteLimit": 2048000,
      "rowLimit": 10000
     },
     "inputWidgets": {},
     "nuid": "82e06497-a59a-4acb-bc0a-4aaf978da097",
     "showTitle": false,
     "title": ""
    }
   },
   "source": [
    "## Grp_SubGrp Table"
   ]
  },
  {
   "cell_type": "code",
   "execution_count": 0,
   "metadata": {
    "application/vnd.databricks.v1+cell": {
     "cellMetadata": {
      "byteLimit": 2048000,
      "rowLimit": 10000
     },
     "inputWidgets": {},
     "nuid": "338e942e-ade7-41f7-aec5-8f31b56fb273",
     "showTitle": false,
     "title": ""
    }
   },
   "outputs": [
    {
     "output_type": "stream",
     "name": "stdout",
     "output_type": "stream",
     "text": [
      "+---------+------+\n|SubGrp_ID|Grp_Id|\n+---------+------+\n|     S101|GRP101|\n|     S101|GRP105|\n|     S102|GRP110|\n|     S102|GRP150|\n|     S102|GRP136|\n|     S103|GRP122|\n|     S103|GRP108|\n|     S103|GRP138|\n|     S103|GRP148|\n|     S104|GRP103|\n|     S104|GRP113|\n|     S104|GRP123|\n|     S104|GRP133|\n|     S104|GRP143|\n|     S105|GRP153|\n|     S105|GRP104|\n|     S105|GRP114|\n|     S105|GRP124|\n|     S106|GRP117|\n|     S106|GRP127|\n+---------+------+\nonly showing top 20 rows\n\n"
     ]
    }
   ],
   "source": [
    "grp_df = spark.read.options(header= \"True\", inferSchema = \"True\").csv(\"s3://takeobucket/capstone/grp_subgrp/grpsubgrp.csv\")\n",
    "grp_df.show()"
   ]
  },
  {
   "cell_type": "markdown",
   "metadata": {
    "application/vnd.databricks.v1+cell": {
     "cellMetadata": {
      "byteLimit": 2048000,
      "rowLimit": 10000
     },
     "inputWidgets": {},
     "nuid": "c9d9b25f-94f4-44e6-bef9-5b0385ad1df8",
     "showTitle": false,
     "title": ""
    }
   },
   "source": [
    "###Checking and counting for Null values in grp_subGrp table "
   ]
  },
  {
   "cell_type": "code",
   "execution_count": 0,
   "metadata": {
    "application/vnd.databricks.v1+cell": {
     "cellMetadata": {
      "byteLimit": 2048000,
      "rowLimit": 10000
     },
     "inputWidgets": {},
     "nuid": "4a998e0b-26e4-4bde-9f7f-cb20b4435ecf",
     "showTitle": false,
     "title": ""
    }
   },
   "outputs": [
    {
     "output_type": "stream",
     "name": "stdout",
     "output_type": "stream",
     "text": [
      "+---------+------+\n|SubGrp_ID|Grp_Id|\n+---------+------+\n|        0|     0|\n+---------+------+\n\n"
     ]
    }
   ],
   "source": [
    "\n",
    "df5 = grp_df.select([count(when((col(c).contains('None')) | \n",
    "                                (col(c).contains('NULL')) |\n",
    "                                 (col(c).contains('NaN')) | \n",
    "                                (col(c) == '') | \n",
    "                                col(c).isNull(), \n",
    "                               True)\n",
    "                            ).alias(c)\n",
    "                    for c in grp_df.columns])\n",
    "df5.show()\n",
    "# no null values "
   ]
  },
  {
   "cell_type": "markdown",
   "metadata": {
    "application/vnd.databricks.v1+cell": {
     "cellMetadata": {
      "byteLimit": 2048000,
      "rowLimit": 10000
     },
     "inputWidgets": {},
     "nuid": "5fbd06e0-ceb2-4dd5-9a9b-d9945056d084",
     "showTitle": false,
     "title": ""
    }
   },
   "source": [
    "##Hospital data"
   ]
  },
  {
   "cell_type": "code",
   "execution_count": 0,
   "metadata": {
    "application/vnd.databricks.v1+cell": {
     "cellMetadata": {
      "byteLimit": 2048000,
      "rowLimit": 10000
     },
     "inputWidgets": {},
     "nuid": "837ed9fb-42f4-477a-8cf2-2e57a8e5a7b4",
     "showTitle": false,
     "title": ""
    }
   },
   "outputs": [
    {
     "output_type": "stream",
     "name": "stdout",
     "output_type": "stream",
     "text": [
      "+-----------+--------------------+----------+-----------+-------+\n|Hospital_id|       Hospital_name|      city|      state|country|\n+-----------+--------------------+----------+-----------+-------+\n|      H1000|All India Institu...| New Delhi|        NaN|  India|\n|      H1001|Medanta The Medicity|   Gurgaon|    Haryana|  India|\n|      H1002|The Christian Med...|   Vellore| Tamil Nadu|  India|\n|      H1003|PGIMER - Postgrad...|Chandigarh|    Haryana|  India|\n|      H1004|Apollo Hospital -...|   Chennai| Tamil Nadu|  India|\n|      H1005|P. D. Hinduja Nat...|    Mumbai|Maharashtra|  India|\n|      H1006|Breach Candy Hosp...|    Mumbai|Maharashtra|  India|\n|      H1007|Fortis Flt. Lt. R...| New Delhi|        NaN|  India|\n|      H1008|King Edward Memor...|    Mumbai|Maharashtra|  India|\n|      H1009|Indraprastha Apol...|     Delhi|        NaN|  India|\n|      H1010|Lilavati Hospital...|    Mumbai|Maharashtra|  India|\n|      H1011|Sir Ganga Ram Hos...|     Delhi|        NaN|  India|\n|      H1012|Bombay Hospital &...|    Mumbai|Maharashtra|  India|\n|      H1013|Apollo Health Cit...| Hyderabad|  Telangana|  India|\n|      H1014|Fortis Hiranandan...|    Mumbai|Maharashtra|  India|\n|      H1015|Fortis Hospital M...|    Mumbai|Maharashtra|  India|\n|      H1016|Jaslok Hospital a...|    Mumbai|Maharashtra|  India|\n|      H1017|   Manipal Hospitals| Bengaluru|  Karnataka|  India|\n|      H1018|Yashoda Hospital ...| Hyderabad|  Telangana|  India|\n|      H1019|Apollo Hospitals ...| Bengaluru|  Karnataka|  India|\n+-----------+--------------------+----------+-----------+-------+\n\n"
     ]
    }
   ],
   "source": [
    "hosp_df = spark.read.options(header= \"True\", inferSchema = \"True\").csv(\"s3://takeobucket/capstone/hospital/hospital.csv\")\n",
    "hosp_df.show()"
   ]
  },
  {
   "cell_type": "markdown",
   "metadata": {
    "application/vnd.databricks.v1+cell": {
     "cellMetadata": {
      "byteLimit": 2048000,
      "rowLimit": 10000
     },
     "inputWidgets": {},
     "nuid": "8770bc30-275d-4441-8d4b-d58228fcf74b",
     "showTitle": false,
     "title": ""
    }
   },
   "source": [
    "###Checking and counting for Null values in grp_subGrp table "
   ]
  },
  {
   "cell_type": "code",
   "execution_count": 0,
   "metadata": {
    "application/vnd.databricks.v1+cell": {
     "cellMetadata": {
      "byteLimit": 2048000,
      "rowLimit": 10000
     },
     "inputWidgets": {},
     "nuid": "dda3b278-3904-4148-9923-5e1b522cd7ec",
     "showTitle": false,
     "title": ""
    }
   },
   "outputs": [
    {
     "output_type": "stream",
     "name": "stdout",
     "output_type": "stream",
     "text": [
      "+-----------+-------------+----+-----+-------+\n|Hospital_id|Hospital_name|city|state|country|\n+-----------+-------------+----+-----+-------+\n|          0|            0|   0|    4|      0|\n+-----------+-------------+----+-----+-------+\n\n"
     ]
    }
   ],
   "source": [
    "from pyspark.sql.functions import col,when,count,desc\n",
    "df5 = hosp_df.select([count(when((col(c).contains('None')) | \n",
    "                                (col(c).contains('NULL')) |\n",
    "                                 (col(c).contains('NaN')) | \n",
    "                                (col(c) == '') | \n",
    "                                col(c).isNull(), \n",
    "                               True)\n",
    "                            ).alias(c)\n",
    "                    for c in hosp_df.columns])\n",
    "df5.show()"
   ]
  },
  {
   "cell_type": "markdown",
   "metadata": {
    "application/vnd.databricks.v1+cell": {
     "cellMetadata": {
      "byteLimit": 2048000,
      "rowLimit": 10000
     },
     "inputWidgets": {},
     "nuid": "3546b76d-1f88-4909-afc4-626f6cb1a0ec",
     "showTitle": false,
     "title": ""
    }
   },
   "source": [
    "## Disease Data"
   ]
  },
  {
   "cell_type": "code",
   "execution_count": 0,
   "metadata": {
    "application/vnd.databricks.v1+cell": {
     "cellMetadata": {
      "byteLimit": 2048000,
      "rowLimit": 10000
     },
     "inputWidgets": {},
     "nuid": "a9e3bd99-82f7-43b2-8339-2d34ae281bc4",
     "showTitle": false,
     "title": ""
    }
   },
   "outputs": [
    {
     "output_type": "stream",
     "name": "stdout",
     "output_type": "stream",
     "text": [
      "+--------+-----------+--------------------+\n|SubGrpID| Disease_ID|        Disease_name|\n+--------+-----------+--------------------+\n|    S101|     110001|            Beriberi|\n|    S101|     110002|              Scurvy|\n|    S101|     110003|              Goitre|\n|    S101|     110004|        Osteoporosis|\n|    S101|     110005|             Rickets|\n|    S101|     110006|             Anaemia|\n|    S102|     110007|           Fractures|\n|    S102|     110008|        Heart Attack|\n|    S102|     110009|               Burns|\n|    S102|     110010|             Choking|\n|    S102|     110011|              Stroke|\n|    S102|     110012|      Food Poisoning|\n|    S103|     110013|              Asthma|\n|    S103|     110014|            Glaucoma|\n|    S103|     110015|            Diabetes|\n|    S103|     110016|             Amnesia|\n|    S103|     110017|         Parasomnias|\n|    S103|     110018|Neurocognitive di...|\n|    S104|     110019|             Vertigo|\n|    S104|     110020|          Lymphedema|\n+--------+-----------+--------------------+\nonly showing top 20 rows\n\n"
     ]
    }
   ],
   "source": [
    "dis_df = spark.read.options(header= \"True\", inferSchema = \"True\").csv(\"s3://takeobucket/capstone/disease/disease.csv\")\n",
    "dis_df.show()"
   ]
  },
  {
   "cell_type": "markdown",
   "metadata": {
    "application/vnd.databricks.v1+cell": {
     "cellMetadata": {
      "byteLimit": 2048000,
      "rowLimit": 10000
     },
     "inputWidgets": {},
     "nuid": "5f5a7b3c-7e3c-4745-bc82-db66b3422823",
     "showTitle": false,
     "title": ""
    }
   },
   "source": [
    "###Checking and counting for Null values in grp_subGrp table "
   ]
  },
  {
   "cell_type": "code",
   "execution_count": 0,
   "metadata": {
    "application/vnd.databricks.v1+cell": {
     "cellMetadata": {
      "byteLimit": 2048000,
      "rowLimit": 10000
     },
     "inputWidgets": {},
     "nuid": "6eaf502d-974d-4dd8-b7c9-c97562d0e483",
     "showTitle": false,
     "title": ""
    }
   },
   "outputs": [
    {
     "output_type": "stream",
     "name": "stdout",
     "output_type": "stream",
     "text": [
      "+--------+-----------+------------+\n|SubGrpID| Disease_ID|Disease_name|\n+--------+-----------+------------+\n|       0|          0|           0|\n+--------+-----------+------------+\n\n"
     ]
    }
   ],
   "source": [
    "\n",
    "df5 = dis_df.select([count(when((col(c).contains('None')) | \n",
    "                                (col(c).contains('NULL')) |\n",
    "                                 (col(c).contains('NaN')) | \n",
    "                                (col(c) == '') | \n",
    "                                col(c).isNull(), \n",
    "                               True)\n",
    "                            ).alias(c)\n",
    "                    for c in dis_df.columns])\n",
    "df5.show()"
   ]
  },
  {
   "cell_type": "markdown",
   "metadata": {
    "application/vnd.databricks.v1+cell": {
     "cellMetadata": {
      "byteLimit": 2048000,
      "rowLimit": 10000
     },
     "inputWidgets": {},
     "nuid": "1a997e8a-0568-47a4-a3dd-daccef40df25",
     "showTitle": false,
     "title": ""
    }
   },
   "source": [
    "## SubGroup Data"
   ]
  },
  {
   "cell_type": "code",
   "execution_count": 0,
   "metadata": {
    "application/vnd.databricks.v1+cell": {
     "cellMetadata": {
      "byteLimit": 2048000,
      "rowLimit": 10000
     },
     "inputWidgets": {},
     "nuid": "33c26cba-2d5b-41e5-91b9-6d88c176b7c4",
     "showTitle": false,
     "title": ""
    }
   },
   "outputs": [
    {
     "output_type": "stream",
     "name": "stdout",
     "output_type": "stream",
     "text": [
      "+---------+-------------------+---------------+\n|SubGrp_id|        SubGrp_Name|Monthly_Premium|\n+---------+-------------------+---------------+\n|     S101|Deficiency Diseases|           3000|\n|     S102|           Accident|           1000|\n|     S103|         Physiology|           2000|\n|     S104|            Therapy|           1500|\n|     S105|          Allergies|           2300|\n|     S106|     Self inflicted|           1200|\n|     S107|             Cancer|           3200|\n|     S108| Infectious disease|           1500|\n|     S109|         Hereditary|           2000|\n|     S110|              Viral|           1000|\n+---------+-------------------+---------------+\n\n"
     ]
    }
   ],
   "source": [
    "sbg_df = spark.read.options(header= \"True\", inferSchema = \"True\").csv(\"s3://takeobucket/capstone/subgroup/subgroup.csv\")\n",
    "sbg_df.show()"
   ]
  },
  {
   "cell_type": "markdown",
   "metadata": {
    "application/vnd.databricks.v1+cell": {
     "cellMetadata": {
      "byteLimit": 2048000,
      "rowLimit": 10000
     },
     "inputWidgets": {},
     "nuid": "8b56d5c5-bd92-4ab4-be0f-f70fe882b414",
     "showTitle": false,
     "title": ""
    }
   },
   "source": [
    "###Checking and counting for Null values in grp_subGrp table "
   ]
  },
  {
   "cell_type": "code",
   "execution_count": 0,
   "metadata": {
    "application/vnd.databricks.v1+cell": {
     "cellMetadata": {
      "byteLimit": 2048000,
      "rowLimit": 10000
     },
     "inputWidgets": {},
     "nuid": "06c4c923-438a-4e7d-a2c9-548096971201",
     "showTitle": false,
     "title": ""
    }
   },
   "outputs": [
    {
     "output_type": "stream",
     "name": "stdout",
     "output_type": "stream",
     "text": [
      "+---------+-----------+---------------+\n|SubGrp_id|SubGrp_Name|Monthly_Premium|\n+---------+-----------+---------------+\n|        0|          0|              0|\n+---------+-----------+---------------+\n\n"
     ]
    }
   ],
   "source": [
    "\n",
    "df5 = sbg_df.select([count(when((col(c).contains('None')) | \n",
    "                                (col(c).contains('NULL')) |\n",
    "                                 (col(c).contains('NaN')) | \n",
    "                                (col(c) == '') | \n",
    "                                col(c).isNull(), \n",
    "                               True)\n",
    "                            ).alias(c)\n",
    "                    for c in sbg_df.columns])\n",
    "df5.show()"
   ]
  },
  {
   "cell_type": "markdown",
   "metadata": {
    "application/vnd.databricks.v1+cell": {
     "cellMetadata": {
      "byteLimit": 2048000,
      "rowLimit": 10000
     },
     "inputWidgets": {},
     "nuid": "97609f8d-3c35-47ef-9a4a-038540f35f3c",
     "showTitle": false,
     "title": ""
    }
   },
   "source": [
    "## Group data"
   ]
  },
  {
   "cell_type": "code",
   "execution_count": 0,
   "metadata": {
    "application/vnd.databricks.v1+cell": {
     "cellMetadata": {
      "byteLimit": 2048000,
      "rowLimit": 10000
     },
     "inputWidgets": {},
     "nuid": "68b45bbc-06ca-4dde-9a30-13686e03a794",
     "showTitle": false,
     "title": ""
    }
   },
   "outputs": [
    {
     "output_type": "stream",
     "name": "stdout",
     "output_type": "stream",
     "text": [
      "+-------+---------------+-------+------+--------------------+--------+---------+----+\n|Country|premium_written|zipcode|Grp_Id|            Grp_Name|Grp_Type|     city|year|\n+-------+---------------+-------+------+--------------------+--------+---------+----+\n|  India|          72000| 482018|GRP101|Life Insurance Co...|   Govt.|   Mumbai|1956|\n|  India|          45000| 482049|GRP102|HDFC Standard Lif...| Private|   Mumbai|2000|\n|  India|          64000| 482030|GRP103|Max Life Insuranc...| Private|    Delhi|2000|\n|  India|          59000| 482028|GRP104|ICICI Prudential ...| Private|   Mumbai|2000|\n|  India|          37000| 482014|GRP105|Kotak Mahindra Li...| Private|   Mumbai|2001|\n|  India|          89000| 482011|GRP106|Aditya Birla Sun ...| Private|   Mumbai|2000|\n|  India|          70000| 482006|GRP107|TATA AIG Life Ins...| Private|   Mumbai|2001|\n|  India|          52000| 482034|GRP108|SBI Life Insuranc...| Private|   Mumbai|2001|\n|  India|          78000| 482032|GRP109|Exide Life Insura...| Private|Bangalore|2001|\n|  India|          48000| 482015|GRP110|Bajaj Allianz Lif...| Private|     Pune|2001|\n|  India|          57000| 482011|GRP111|PNB MetLife India...| Private|   Mumbai|2001|\n|  India|          57000| 482022|GRP112|Reliance Nippon L...| Private|   Mumbai|2001|\n|  India|          64000| 482009|GRP113|Aviva Life Insura...| Private| Gurugram|2002|\n|  India|          33000| 482043|GRP114|Sahara India Life...| Private|  Lucknow|2004|\n|  India|          79000| 482036|GRP115|Shriram Life Insu...| Private|Hyderabad|2005|\n|  India|          32000| 482002|GRP116|Bharti AXA Life I...| Private|   Mumbai|2008|\n|  India|          59000| 482017|GRP117|Future Generali I...| Private|   Mumbai|2007|\n|  India|          97000| 482023|GRP118|IDBI Federal Life...| Private|   Mumbai|2008|\n|  India|          47000| 482046|GRP119|Canara HSBC Orien...| Private| Gurugram|2008|\n|  India|          50000| 482017|GRP120|Aegon Life Insura...| Private|   Mumbai|2008|\n+-------+---------------+-------+------+--------------------+--------+---------+----+\nonly showing top 20 rows\n\n"
     ]
    }
   ],
   "source": [
    "gp_df = spark.read.options(header= \"True\", inferSchema = \"True\").csv(\"s3://takeobucket/capstone/group/group.csv\")\n",
    "gp_df.show()"
   ]
  },
  {
   "cell_type": "markdown",
   "metadata": {
    "application/vnd.databricks.v1+cell": {
     "cellMetadata": {
      "byteLimit": 2048000,
      "rowLimit": 10000
     },
     "inputWidgets": {},
     "nuid": "7b79d8e0-962a-4fb3-b115-55342efa1016",
     "showTitle": false,
     "title": ""
    }
   },
   "source": [
    "###Checking and counting for Null values in grp_subGrp table "
   ]
  },
  {
   "cell_type": "code",
   "execution_count": 0,
   "metadata": {
    "application/vnd.databricks.v1+cell": {
     "cellMetadata": {
      "byteLimit": 2048000,
      "rowLimit": 10000
     },
     "inputWidgets": {},
     "nuid": "d010470e-92c3-497a-b0bc-970b70f1e462",
     "showTitle": false,
     "title": ""
    }
   },
   "outputs": [
    {
     "output_type": "stream",
     "name": "stdout",
     "output_type": "stream",
     "text": [
      "+-------+---------------+-------+------+--------+--------+----+----+\n|Country|premium_written|zipcode|Grp_Id|Grp_Name|Grp_Type|city|year|\n+-------+---------------+-------+------+--------+--------+----+----+\n|      0|              0|      0|     0|       0|       0|   0|   0|\n+-------+---------------+-------+------+--------+--------+----+----+\n\n"
     ]
    }
   ],
   "source": [
    "\n",
    "df5 = gp_df.select([count(when((col(c).contains('None')) | \n",
    "                                (col(c).contains('NULL')) |\n",
    "                                 (col(c).contains('NaN')) | \n",
    "                                (col(c) == '') | \n",
    "                                col(c).isNull(), \n",
    "                               True)\n",
    "                            ).alias(c)\n",
    "                    for c in gp_df.columns])\n",
    "df5.show()"
   ]
  }
 ],
 "metadata": {
  "application/vnd.databricks.v1+notebook": {
   "dashboards": [],
   "language": "python",
   "notebookMetadata": {
    "pythonIndentUnit": 4
   },
   "notebookName": "Data_Cleaning Notebook_submission",
   "widgets": {}
  }
 },
 "nbformat": 4,
 "nbformat_minor": 0
}
