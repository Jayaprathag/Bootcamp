{
 "cells": [
  {
   "cell_type": "code",
   "execution_count": 0,
   "metadata": {
    "application/vnd.databricks.v1+cell": {
     "cellMetadata": {
      "byteLimit": 2048000,
      "rowLimit": 10000
     },
     "inputWidgets": {},
     "nuid": "04fc190b-43c3-433b-8ac1-d9e2808ff5d2",
     "showTitle": false,
     "title": ""
    }
   },
   "outputs": [
    {
     "output_type": "stream",
     "name": "stdout",
     "output_type": "stream",
     "text": [
      "+----------+------------+--------------+------------------+--------------+----------------+--------------------+-----------+\n|Patient_id|Patient_name|patient_gender|patient_birth_date| patient_phone|    disease_name|                city|hospital_id|\n+----------+------------+--------------+------------------+--------------+----------------+--------------------+-----------+\n|    187158|      Harbir|        Female|        1924-06-30|+91 0112009318|    Galactosemia|            Rourkela|      H1001|\n|    112766|    Brahmdev|        Female|        1948-12-20|+91 1727749552|  Bladder cancer|        Tiruvottiyur|      H1016|\n|    199252|     Ujjawal|          Male|        1980-04-16|+91 8547451606|   Kidney cancer|           Berhampur|      H1009|\n|    133424|     Ballari|        Female|        1969-09-25|+91 0106026841|         Suicide|        Bihar Sharif|      H1017|\n|    172579|     Devnath|        Female|        1946-05-01|+91 1868774631|    Food allergy|         Bidhannagar|      H1019|\n|    171320|       Atasi|          Male|        1967-10-02|+91 9747336855|        Whiplash|            Amravati|      H1013|\n|    107794|      Manish|          Male|        1967-06-06|+91 4354294043|      Sunbathing|              Panvel|      H1004|\n|    130339|       Aakar|        Female|        1925-03-05|+91 2777633911|Drug consumption|        Bihar Sharif|      H1000|\n|    110377|     Gurudas|          Male|        1945-05-06|+91 1232859381|          Dengue|           Kamarhati|      H1001|\n|    149367|        null|          Male|        1925-06-12|+91 1780763280|    Head banging|           Bangalore|      H1013|\n|    156168|        null|          Male|        1976-02-03|+91 5586075345| Fanconi anaemia|              Rajkot|      H1004|\n|    114241|        null|        Female|        1955-01-22|+91 4146391938|   Breast cancer|           Ghaziabad|      H1015|\n|    146382|  Dharmadaas|          Male|        1964-04-29|+91 6345482027|         Anthrax|Bhalswa Jahangir Pur|      H1019|\n|    132748|    Brahmvir|          Male|        1991-11-11|+91 7316972612| Cystic fibrosis|              Ambala|      H1018|\n|    167340|        null|        Female|        1981-01-25|+91 2960004518|    Galactosemia|Surendranagar Dud...|      H1003|\n|    135184|     Bhagvan|        Female|        1966-07-24|+91 0297693485|          Dengue|          Bhimavaram|      H1018|\n|    179662|   Amritkala|        Female|        1933-11-20|+91 0537157280|        Smallpox|              Meerut|      H1018|\n|    184479|      Bandhu|          Male|        1996-10-15|+91 0695289163|  Pollen allergy|           Chinsurah|      H1010|\n|    156988|  Bhagavaana|        Female|        1935-09-16|+91 6071745855|   Breast cancer|        Shahjahanpur|      H1012|\n|    132870|        null|        Female|        1924-11-09|+91 8906694405|        Glaucoma|            Jabalpur|      H1017|\n+----------+------------+--------------+------------------+--------------+----------------+--------------------+-----------+\nonly showing top 20 rows\n\n"
     ]
    },
    {
     "output_type": "stream",
     "name": "stdout",
     "output_type": "stream",
     "text": [
      "+----------+------------+--------------+------------------+-------------+------------+----+-----------+\n|Patient_id|Patient_name|patient_gender|patient_birth_date|patient_phone|disease_name|city|hospital_id|\n+----------+------------+--------------+------------------+-------------+------------+----+-----------+\n|         0|          17|             0|                 0|            2|           0|   0|          0|\n+----------+------------+--------------+------------------+-------------+------------+----+-----------+\n\n"
     ]
    },
    {
     "output_type": "stream",
     "name": "stdout",
     "output_type": "stream",
     "text": [
      "+----------+------------+--------------+------------------+--------------+----------------+--------------------+-----------+\n|Patient_id|Patient_name|patient_gender|patient_birth_date| patient_phone|    disease_name|                city|hospital_id|\n+----------+------------+--------------+------------------+--------------+----------------+--------------------+-----------+\n|    187158|      Harbir|        Female|        1924-06-30|+91 0112009318|    Galactosemia|            Rourkela|      H1001|\n|    112766|    Brahmdev|        Female|        1948-12-20|+91 1727749552|  Bladder cancer|        Tiruvottiyur|      H1016|\n|    199252|     Ujjawal|          Male|        1980-04-16|+91 8547451606|   Kidney cancer|           Berhampur|      H1009|\n|    133424|     Ballari|        Female|        1969-09-25|+91 0106026841|         Suicide|        Bihar Sharif|      H1017|\n|    172579|     Devnath|        Female|        1946-05-01|+91 1868774631|    Food allergy|         Bidhannagar|      H1019|\n|    171320|       Atasi|          Male|        1967-10-02|+91 9747336855|        Whiplash|            Amravati|      H1013|\n|    107794|      Manish|          Male|        1967-06-06|+91 4354294043|      Sunbathing|              Panvel|      H1004|\n|    130339|       Aakar|        Female|        1925-03-05|+91 2777633911|Drug consumption|        Bihar Sharif|      H1000|\n|    110377|     Gurudas|          Male|        1945-05-06|+91 1232859381|          Dengue|           Kamarhati|      H1001|\n|    149367|          NA|          Male|        1925-06-12|+91 1780763280|    Head banging|           Bangalore|      H1013|\n|    156168|          NA|          Male|        1976-02-03|+91 5586075345| Fanconi anaemia|              Rajkot|      H1004|\n|    114241|          NA|        Female|        1955-01-22|+91 4146391938|   Breast cancer|           Ghaziabad|      H1015|\n|    146382|  Dharmadaas|          Male|        1964-04-29|+91 6345482027|         Anthrax|Bhalswa Jahangir Pur|      H1019|\n|    132748|    Brahmvir|          Male|        1991-11-11|+91 7316972612| Cystic fibrosis|              Ambala|      H1018|\n|    167340|          NA|        Female|        1981-01-25|+91 2960004518|    Galactosemia|Surendranagar Dud...|      H1003|\n|    135184|     Bhagvan|        Female|        1966-07-24|+91 0297693485|          Dengue|          Bhimavaram|      H1018|\n|    179662|   Amritkala|        Female|        1933-11-20|+91 0537157280|        Smallpox|              Meerut|      H1018|\n|    184479|      Bandhu|          Male|        1996-10-15|+91 0695289163|  Pollen allergy|           Chinsurah|      H1010|\n|    156988|  Bhagavaana|        Female|        1935-09-16|+91 6071745855|   Breast cancer|        Shahjahanpur|      H1012|\n|    132870|          NA|        Female|        1924-11-09|+91 8906694405|        Glaucoma|            Jabalpur|      H1017|\n+----------+------------+--------------+------------------+--------------+----------------+--------------------+-----------+\nonly showing top 20 rows\n\n"
     ]
    },
    {
     "output_type": "stream",
     "name": "stdout",
     "output_type": "stream",
     "text": [
      "Null counts before replacement:\n+----------+------------+--------------+------------------+-------------+------------+----+-----------+\n|Patient_id|Patient_name|patient_gender|patient_birth_date|patient_phone|disease_name|city|hospital_id|\n+----------+------------+--------------+------------------+-------------+------------+----+-----------+\n|         0|          17|             0|                 0|            2|           0|   0|          0|\n+----------+------------+--------------+------------------+-------------+------------+----+-----------+\n\nNull counts after replacement:\n+----------+------------+--------------+------------------+-------------+------------+----+-----------+\n|Patient_id|Patient_name|patient_gender|patient_birth_date|patient_phone|disease_name|city|hospital_id|\n+----------+------------+--------------+------------------+-------------+------------+----+-----------+\n|         0|           0|             0|                 0|            0|           0|   0|          0|\n+----------+------------+--------------+------------------+-------------+------------+----+-----------+\n\n"
     ]
    },
    {
     "output_type": "stream",
     "name": "stdout",
     "output_type": "stream",
     "text": [
      "+----------+-----+\n|Patient_Id|count|\n+----------+-----+\n+----------+-----+\n\n"
     ]
    },
    {
     "output_type": "stream",
     "name": "stdout",
     "output_type": "stream",
     "text": [
      "+----------+----------+-----------+-----------------+----------+------+--------------+-------+--------------------+--------+---------+--------+----------+----------+\n|   sub _id|first_name|  last_name|           Street|Birth_date|Gender|         Phone|Country|                City|Zip Code|Subgrp_id|Elig_ind|  eff_date| term_date|\n+----------+----------+-----------+-----------------+----------+------+--------------+-------+--------------------+--------+---------+--------+----------+----------+\n|SUBID10000|    Harbir|Vishwakarma|       Baria Marg|1924-06-30|Female|+91 0112009318|  India|            Rourkela|  767058|     S107|       Y|1944-06-30|1954-01-14|\n|SUBID10001|  Brahmdev|     Sonkar|        Lala Marg|1948-12-20|Female|+91 1727749552|  India|        Tiruvottiyur|   34639|     S105|       Y|1968-12-20|1970-05-16|\n|SUBID10002|   Ujjawal|       Devi|      Mammen Zila|1980-04-16|  Male|+91 8547451606|  India|           Berhampur|  914455|     S106|       N|2000-04-16|2008-05-04|\n|SUBID10003|   Ballari|     Mishra|       Sahni Zila|1969-09-25|Female|+91 0106026841|  India|        Bihar Sharif|   91481|     S104|       N|1989-09-25|1995-06-05|\n|SUBID10004|   Devnath|  Srivastav|       Magar Zila|1946-05-01|Female|+91 1868774631|  India|         Bidhannagar|  531742|     S110|       N|1966-05-01|1970-12-09|\n|SUBID10005|     Atasi|       Seth|     Khatri Nagar|1967-10-02|  Male|+91 9747336855|  India|            Amravati|  229062|     S104|       Y|1987-10-02|1995-02-13|\n| SUBID1006|    Manish|     Maurya|Swaminathan Chowk|1967-06-06|  Male|+91 4354294043|  India|              Panvel|  438733|     S109|    null|1987-06-06|1995-03-21|\n|SUBID10007|     Aakar|      Yadav|            Swamy|1925-03-05|Female|+91 2777633911|  India|        Bihar Sharif|  535907|     S104|       N|1945-03-05|1946-11-07|\n|SUBID10008|   Gurudas|      Gupta|      Sarin Nagar|1945-05-06|  Male|+91 1232859381|  India|           Kamarhati|  933226|     S103|       Y|1965-05-06|1970-09-16|\n|SUBID10009|      null|      Gupta|    Thakur Circle|1925-06-12|  Male|+91 1780763280|  India|           Bangalore|  957469|     S105|       Y|1945-06-12|1953-08-30|\n| SUBID1010|      null|     Divedi|          Dhillon|1976-02-03|  Male|+91 5586075345|  India|              Rajkot|  911319|     S102|       Y|1996-02-03|2002-01-27|\n|SUBID10011|      null|Vishwakarma|      Rajagopalan|1955-01-22|Female|+91 4146391938|  India|           Ghaziabad|  337042|     S106|       N|1975-01-22|1978-11-02|\n|SUBID10012|Dharmadaas|     Tiwari|             Rama|1964-04-29|  Male|+91 6345482027|  India|Bhalswa Jahangir Pur|  430793|     S103|       N|1984-04-29|1988-02-07|\n|SUBID10013|  Brahmvir|        Rai|        Shah Path|1991-11-11|  Male|+91 7316972612|  India|              Ambala|  249898|     S106|       N|2011-11-11|2020-05-23|\n|SUBID10014|      null|  Srivastav|     Chandra Path|1981-01-25|Female|+91 2960004518|  India|Surendranagar Dud...|  111966|     S102|       N|2001-01-25|2005-07-13|\n|SUBID10015|   Bhagvan|  Srivastav|            Edwin|1966-07-24|Female|+91 0297693485|  India|          Bhimavaram|  436513|     S105|       Y|1986-07-24|1988-02-04|\n|SUBID10016| Amritkala|  Srivastav|        Guha Path|1933-11-20|Female|+91 0537157280|  India|              Meerut|  863467|     S106|       Y|1953-11-20|1955-07-29|\n|SUBID10017|    Bandhu|       Seth|        Varughese|1996-10-15|  Male|+91 0695289163|  India|           Chinsurah|  136713|     S108|       N|2016-10-15|2018-06-08|\n|SUBID10018|Bhagavaana|      Kumar|    Kulkarni Zila|1935-09-16|Female|+91 6071745855|  India|        Shahjahanpur|  597276|     S101|       N|1955-09-16|1958-05-31|\n|SUBID10019|      null|     Maurya|     Sharaf Nagar|1924-11-09|Female|+91 8906694405|  India|            Jabalpur|  958538|     S104|       N|1944-11-09|1951-10-14|\n+----------+----------+-----------+-----------------+----------+------+--------------+-------+--------------------+--------+---------+--------+----------+----------+\nonly showing top 20 rows\n\n"
     ]
    },
    {
     "output_type": "stream",
     "name": "stdout",
     "output_type": "stream",
     "text": [
      "+-------+----------+---------+------+----------+------+-----+-------+----+--------+---------+--------+--------+---------+\n|sub _id|first_name|last_name|Street|Birth_date|Gender|Phone|Country|City|Zip Code|Subgrp_id|Elig_ind|eff_date|term_date|\n+-------+----------+---------+------+----------+------+-----+-------+----+--------+---------+--------+--------+---------+\n|      0|        27|        0|     0|         0|     0|    3|      0|   0|       0|        2|       4|       0|        0|\n+-------+----------+---------+------+----------+------+-----+-------+----+--------+---------+--------+--------+---------+\n\n"
     ]
    },
    {
     "output_type": "stream",
     "name": "stdout",
     "output_type": "stream",
     "text": [
      "+----------+----------+-----------+-----------------+----------+------+--------------+-------+--------------------+--------+---------+--------+----------+----------+\n|   sub _id|first_name|  last_name|           Street|Birth_date|Gender|         Phone|Country|                City|Zip Code|Subgrp_id|Elig_ind|  eff_date| term_date|\n+----------+----------+-----------+-----------------+----------+------+--------------+-------+--------------------+--------+---------+--------+----------+----------+\n|SUBID10000|    Harbir|Vishwakarma|       Baria Marg|1924-06-30|Female|+91 0112009318|  India|            Rourkela|  767058|     S107|       Y|1944-06-30|1954-01-14|\n|SUBID10001|  Brahmdev|     Sonkar|        Lala Marg|1948-12-20|Female|+91 1727749552|  India|        Tiruvottiyur|   34639|     S105|       Y|1968-12-20|1970-05-16|\n|SUBID10002|   Ujjawal|       Devi|      Mammen Zila|1980-04-16|  Male|+91 8547451606|  India|           Berhampur|  914455|     S106|       N|2000-04-16|2008-05-04|\n|SUBID10003|   Ballari|     Mishra|       Sahni Zila|1969-09-25|Female|+91 0106026841|  India|        Bihar Sharif|   91481|     S104|       N|1989-09-25|1995-06-05|\n|SUBID10004|   Devnath|  Srivastav|       Magar Zila|1946-05-01|Female|+91 1868774631|  India|         Bidhannagar|  531742|     S110|       N|1966-05-01|1970-12-09|\n|SUBID10005|     Atasi|       Seth|     Khatri Nagar|1967-10-02|  Male|+91 9747336855|  India|            Amravati|  229062|     S104|       Y|1987-10-02|1995-02-13|\n| SUBID1006|    Manish|     Maurya|Swaminathan Chowk|1967-06-06|  Male|+91 4354294043|  India|              Panvel|  438733|     S109|      NA|1987-06-06|1995-03-21|\n|SUBID10007|     Aakar|      Yadav|            Swamy|1925-03-05|Female|+91 2777633911|  India|        Bihar Sharif|  535907|     S104|       N|1945-03-05|1946-11-07|\n|SUBID10008|   Gurudas|      Gupta|      Sarin Nagar|1945-05-06|  Male|+91 1232859381|  India|           Kamarhati|  933226|     S103|       Y|1965-05-06|1970-09-16|\n|SUBID10009|        NA|      Gupta|    Thakur Circle|1925-06-12|  Male|+91 1780763280|  India|           Bangalore|  957469|     S105|       Y|1945-06-12|1953-08-30|\n| SUBID1010|        NA|     Divedi|          Dhillon|1976-02-03|  Male|+91 5586075345|  India|              Rajkot|  911319|     S102|       Y|1996-02-03|2002-01-27|\n|SUBID10011|        NA|Vishwakarma|      Rajagopalan|1955-01-22|Female|+91 4146391938|  India|           Ghaziabad|  337042|     S106|       N|1975-01-22|1978-11-02|\n|SUBID10012|Dharmadaas|     Tiwari|             Rama|1964-04-29|  Male|+91 6345482027|  India|Bhalswa Jahangir Pur|  430793|     S103|       N|1984-04-29|1988-02-07|\n|SUBID10013|  Brahmvir|        Rai|        Shah Path|1991-11-11|  Male|+91 7316972612|  India|              Ambala|  249898|     S106|       N|2011-11-11|2020-05-23|\n|SUBID10014|        NA|  Srivastav|     Chandra Path|1981-01-25|Female|+91 2960004518|  India|Surendranagar Dud...|  111966|     S102|       N|2001-01-25|2005-07-13|\n|SUBID10015|   Bhagvan|  Srivastav|            Edwin|1966-07-24|Female|+91 0297693485|  India|          Bhimavaram|  436513|     S105|       Y|1986-07-24|1988-02-04|\n|SUBID10016| Amritkala|  Srivastav|        Guha Path|1933-11-20|Female|+91 0537157280|  India|              Meerut|  863467|     S106|       Y|1953-11-20|1955-07-29|\n|SUBID10017|    Bandhu|       Seth|        Varughese|1996-10-15|  Male|+91 0695289163|  India|           Chinsurah|  136713|     S108|       N|2016-10-15|2018-06-08|\n|SUBID10018|Bhagavaana|      Kumar|    Kulkarni Zila|1935-09-16|Female|+91 6071745855|  India|        Shahjahanpur|  597276|     S101|       N|1955-09-16|1958-05-31|\n|SUBID10019|        NA|     Maurya|     Sharaf Nagar|1924-11-09|Female|+91 8906694405|  India|            Jabalpur|  958538|     S104|       N|1944-11-09|1951-10-14|\n+----------+----------+-----------+-----------------+----------+------+--------------+-------+--------------------+--------+---------+--------+----------+----------+\nonly showing top 20 rows\n\n"
     ]
    },
    {
     "output_type": "stream",
     "name": "stdout",
     "output_type": "stream",
     "text": [
      "Null counts before replacement:\n+-------+----------+---------+------+----------+------+-----+-------+----+--------+---------+--------+--------+---------+\n|sub _id|first_name|last_name|Street|Birth_date|Gender|Phone|Country|City|Zip Code|Subgrp_id|Elig_ind|eff_date|term_date|\n+-------+----------+---------+------+----------+------+-----+-------+----+--------+---------+--------+--------+---------+\n|      0|        27|        0|     0|         0|     0|    3|      0|   0|       0|        2|       4|       0|        0|\n+-------+----------+---------+------+----------+------+-----+-------+----+--------+---------+--------+--------+---------+\n\nNull counts after replacement:\n+-------+----------+---------+------+----------+------+-----+-------+----+--------+---------+--------+--------+---------+\n|sub _id|first_name|last_name|Street|Birth_date|Gender|Phone|Country|City|Zip Code|Subgrp_id|Elig_ind|eff_date|term_date|\n+-------+----------+---------+------+----------+------+-----+-------+----+--------+---------+--------+--------+---------+\n|      0|         0|        0|     0|         0|     0|    0|      0|   0|       0|        0|       0|       0|        0|\n+-------+----------+---------+------+----------+------+-----+-------+----+--------+---------+--------+--------+---------+\n\n"
     ]
    },
    {
     "output_type": "stream",
     "name": "stdout",
     "output_type": "stream",
     "text": [
      "+-------------+-----+\n|subscriber_id|count|\n+-------------+-----+\n|   SUBID10023|    1|\n|   SUBID10059|    1|\n|   SUBID10078|    1|\n|   SUBID10083|    1|\n|   SUBID10046|    1|\n|   SUBID10084|    1|\n|   SUBID10090|    1|\n|    SUBID1034|    1|\n|   SUBID10018|    1|\n|    SUBID1065|    1|\n|   SUBID10017|    1|\n|   SUBID10057|    1|\n|   SUBID10007|    1|\n|   SUBID10089|    1|\n|   SUBID10066|    1|\n|   SUBID10071|    1|\n|   SUBID10070|    1|\n|   SUBID10094|    1|\n|   SUBID10051|    1|\n|   SUBID10055|    1|\n+-------------+-----+\nonly showing top 20 rows\n\n+-------------+-----+\n|subscriber_id|count|\n+-------------+-----+\n+-------------+-----+\n\n"
     ]
    },
    {
     "output_type": "stream",
     "name": "stdout",
     "output_type": "stream",
     "text": [
      "+-----------------+----------+------------+----------+--------+----------------+----------------+----------+\n|Claim_Or_Rejected|    SUB_ID|claim_amount|claim_date|claim_id|      claim_type|    disease_name|patient_id|\n+-----------------+----------+------------+----------+--------+----------------+----------------+----------+\n|                N| SUBID1000|       79874|1949-03-14|       0| claims of value|    Galactosemia|    187158|\n|              NaN|SUBID10001|      151142|1970-03-16|       1|claims of policy|  Bladder cancer|    112766|\n|              NaN|SUBID10002|       59924|2008-02-03|       2| claims of value|   Kidney cancer|    199252|\n|              NaN|SUBID10003|      143120|1995-02-08|       3|  claims of fact|         Suicide|    133424|\n|                Y|SUBID10004|      168634|1967-05-23|       4| claims of value|    Food allergy|    172579|\n|              NaN|SUBID10005|       64840|1991-10-04|       5|claims of policy|        Whiplash|    171320|\n|                N| SUBID1006|       26800|1991-03-26|       6|  claims of fact|      Sunbathing|    107794|\n|              NaN|SUBID10007|      177186|1946-09-05|       7| claims of value|Drug consumption|    130339|\n|                N|SUBID10008|      141123|1966-06-20|       8|  claims of fact|          Dengue|    110377|\n|                N|SUBID10009|       88540|1945-12-29|       9| claims of value|    Head banging|    149367|\n|                N| SUBID1010|       29150|1999-01-25|      10| claims of value| Fanconi anaemia|    156168|\n|                Y|SUBID10011|       40897|1975-02-08|      11| claims of value|   Breast cancer|    114241|\n|              NaN|SUBID10012|       75983|1985-02-12|      12| claims of value|         Anthrax|    146382|\n|              NaN|SUBID10013|      192340|2014-07-30|      13|  claims of fact| Cystic fibrosis|    132748|\n|                N|SUBID10014|      118628|2003-12-18|      14| claims of value|    Galactosemia|    167340|\n|                Y|SUBID10015|      100224|1986-08-02|      15| claims of value|          Dengue|    135184|\n|                N|SUBID10016|       42860|1955-01-20|      16| claims of value|        Smallpox|    179662|\n|                N|SUBID10017|      161786|2017-06-01|      17|claims of policy|  Pollen allergy|    184479|\n|              NaN|SUBID10018|       66129|1956-01-04|      18|  claims of fact|   Breast cancer|    156988|\n|              NaN|SUBID10019|      182552|1948-07-26|      19| claims of value|        Glaucoma|    132870|\n+-----------------+----------+------------+----------+--------+----------------+----------------+----------+\nonly showing top 20 rows\n\n"
     ]
    },
    {
     "output_type": "stream",
     "name": "stdout",
     "output_type": "stream",
     "text": [
      "+-----------------+------+------------+----------+--------+----------+------------+----------+\n|Claim_Or_Rejected|SUB_ID|claim_amount|claim_date|claim_id|claim_type|disease_name|patient_id|\n+-----------------+------+------------+----------+--------+----------+------------+----------+\n|               30|     0|           0|         0|       0|         0|           0|         0|\n+-----------------+------+------------+----------+--------+----------+------------+----------+\n\n"
     ]
    }
   ],
   "source": [
    "%run \"/Workspace/Data_Cleaning Notebook\""
   ]
  },
  {
   "cell_type": "markdown",
   "metadata": {
    "application/vnd.databricks.v1+cell": {
     "cellMetadata": {
      "byteLimit": 2048000,
      "rowLimit": 10000
     },
     "inputWidgets": {},
     "nuid": "8479cbd2-4cbb-46c5-8885-e9b2ec992ee6",
     "showTitle": false,
     "title": ""
    }
   },
   "source": [
    "####●\tFind out hospital which serve most number of patients"
   ]
  },
  {
   "cell_type": "code",
   "execution_count": 0,
   "metadata": {
    "application/vnd.databricks.v1+cell": {
     "cellMetadata": {
      "byteLimit": 2048000,
      "rowLimit": 10000
     },
     "inputWidgets": {},
     "nuid": "4dad2753-8fee-478d-b31f-1c5d02f50e01",
     "showTitle": false,
     "title": ""
    }
   },
   "outputs": [
    {
     "output_type": "stream",
     "name": "stdout",
     "output_type": "stream",
     "text": [
      "+----------+------------+--------------+------------------+--------------+----------------+--------------------+-----------+\n|Patient_id|Patient_name|patient_gender|patient_birth_date| patient_phone|    disease_name|                city|hospital_id|\n+----------+------------+--------------+------------------+--------------+----------------+--------------------+-----------+\n|    187158|      Harbir|        Female|        1924-06-30|+91 0112009318|    Galactosemia|            Rourkela|      H1001|\n|    112766|    Brahmdev|        Female|        1948-12-20|+91 1727749552|  Bladder cancer|        Tiruvottiyur|      H1016|\n|    199252|     Ujjawal|          Male|        1980-04-16|+91 8547451606|   Kidney cancer|           Berhampur|      H1009|\n|    133424|     Ballari|        Female|        1969-09-25|+91 0106026841|         Suicide|        Bihar Sharif|      H1017|\n|    172579|     Devnath|        Female|        1946-05-01|+91 1868774631|    Food allergy|         Bidhannagar|      H1019|\n|    171320|       Atasi|          Male|        1967-10-02|+91 9747336855|        Whiplash|            Amravati|      H1013|\n|    107794|      Manish|          Male|        1967-06-06|+91 4354294043|      Sunbathing|              Panvel|      H1004|\n|    130339|       Aakar|        Female|        1925-03-05|+91 2777633911|Drug consumption|        Bihar Sharif|      H1000|\n|    110377|     Gurudas|          Male|        1945-05-06|+91 1232859381|          Dengue|           Kamarhati|      H1001|\n|    149367|          NA|          Male|        1925-06-12|+91 1780763280|    Head banging|           Bangalore|      H1013|\n|    156168|          NA|          Male|        1976-02-03|+91 5586075345| Fanconi anaemia|              Rajkot|      H1004|\n|    114241|          NA|        Female|        1955-01-22|+91 4146391938|   Breast cancer|           Ghaziabad|      H1015|\n|    146382|  Dharmadaas|          Male|        1964-04-29|+91 6345482027|         Anthrax|Bhalswa Jahangir Pur|      H1019|\n|    132748|    Brahmvir|          Male|        1991-11-11|+91 7316972612| Cystic fibrosis|              Ambala|      H1018|\n|    167340|          NA|        Female|        1981-01-25|+91 2960004518|    Galactosemia|Surendranagar Dud...|      H1003|\n|    135184|     Bhagvan|        Female|        1966-07-24|+91 0297693485|          Dengue|          Bhimavaram|      H1018|\n|    179662|   Amritkala|        Female|        1933-11-20|+91 0537157280|        Smallpox|              Meerut|      H1018|\n|    184479|      Bandhu|          Male|        1996-10-15|+91 0695289163|  Pollen allergy|           Chinsurah|      H1010|\n|    156988|  Bhagavaana|        Female|        1935-09-16|+91 6071745855|   Breast cancer|        Shahjahanpur|      H1012|\n|    132870|          NA|        Female|        1924-11-09|+91 8906694405|        Glaucoma|            Jabalpur|      H1017|\n+----------+------------+--------------+------------------+--------------+----------------+--------------------+-----------+\nonly showing top 20 rows\n\n"
     ]
    }
   ],
   "source": [
    "pat_cleaned.show()"
   ]
  },
  {
   "cell_type": "code",
   "execution_count": 0,
   "metadata": {
    "application/vnd.databricks.v1+cell": {
     "cellMetadata": {
      "byteLimit": 2048000,
      "rowLimit": 10000
     },
     "inputWidgets": {},
     "nuid": "bbe7a2f7-7436-48b4-9e52-d432a31ebe5b",
     "showTitle": false,
     "title": ""
    }
   },
   "outputs": [
    {
     "output_type": "stream",
     "name": "stdout",
     "output_type": "stream",
     "text": [
      "+-----------+----------+------------+--------------+------------------+--------------+-------------------+--------------------+--------------------+----------+-----------+-------+\n|hospital_id|Patient_id|Patient_name|patient_gender|patient_birth_date| patient_phone|       disease_name|                city|       Hospital_name|      city|      state|country|\n+-----------+----------+------------+--------------+------------------+--------------+-------------------+--------------------+--------------------+----------+-----------+-------+\n|      H1001|    187158|      Harbir|        Female|        1924-06-30|+91 0112009318|       Galactosemia|            Rourkela|Medanta The Medicity|   Gurgaon|    Haryana|  India|\n|      H1016|    112766|    Brahmdev|        Female|        1948-12-20|+91 1727749552|     Bladder cancer|        Tiruvottiyur|Jaslok Hospital a...|    Mumbai|Maharashtra|  India|\n|      H1009|    199252|     Ujjawal|          Male|        1980-04-16|+91 8547451606|      Kidney cancer|           Berhampur|Indraprastha Apol...|     Delhi|        NaN|  India|\n|      H1017|    133424|     Ballari|        Female|        1969-09-25|+91 0106026841|            Suicide|        Bihar Sharif|   Manipal Hospitals| Bengaluru|  Karnataka|  India|\n|      H1019|    172579|     Devnath|        Female|        1946-05-01|+91 1868774631|       Food allergy|         Bidhannagar|Apollo Hospitals ...| Bengaluru|  Karnataka|  India|\n|      H1013|    171320|       Atasi|          Male|        1967-10-02|+91 9747336855|           Whiplash|            Amravati|Apollo Health Cit...| Hyderabad|  Telangana|  India|\n|      H1004|    107794|      Manish|          Male|        1967-06-06|+91 4354294043|         Sunbathing|              Panvel|Apollo Hospital -...|   Chennai| Tamil Nadu|  India|\n|      H1000|    130339|       Aakar|        Female|        1925-03-05|+91 2777633911|   Drug consumption|        Bihar Sharif|All India Institu...| New Delhi|        NaN|  India|\n|      H1001|    110377|     Gurudas|          Male|        1945-05-06|+91 1232859381|             Dengue|           Kamarhati|Medanta The Medicity|   Gurgaon|    Haryana|  India|\n|      H1013|    149367|          NA|          Male|        1925-06-12|+91 1780763280|       Head banging|           Bangalore|Apollo Health Cit...| Hyderabad|  Telangana|  India|\n|      H1004|    156168|          NA|          Male|        1976-02-03|+91 5586075345|    Fanconi anaemia|              Rajkot|Apollo Hospital -...|   Chennai| Tamil Nadu|  India|\n|      H1015|    114241|          NA|        Female|        1955-01-22|+91 4146391938|      Breast cancer|           Ghaziabad|Fortis Hospital M...|    Mumbai|Maharashtra|  India|\n|      H1019|    146382|  Dharmadaas|          Male|        1964-04-29|+91 6345482027|            Anthrax|Bhalswa Jahangir Pur|Apollo Hospitals ...| Bengaluru|  Karnataka|  India|\n|      H1018|    132748|    Brahmvir|          Male|        1991-11-11|+91 7316972612|    Cystic fibrosis|              Ambala|Yashoda Hospital ...| Hyderabad|  Telangana|  India|\n|      H1003|    167340|          NA|        Female|        1981-01-25|+91 2960004518|       Galactosemia|Surendranagar Dud...|PGIMER - Postgrad...|Chandigarh|    Haryana|  India|\n|      H1018|    135184|     Bhagvan|        Female|        1966-07-24|+91 0297693485|             Dengue|          Bhimavaram|Yashoda Hospital ...| Hyderabad|  Telangana|  India|\n|      H1018|    179662|   Amritkala|        Female|        1933-11-20|+91 0537157280|           Smallpox|              Meerut|Yashoda Hospital ...| Hyderabad|  Telangana|  India|\n|      H1010|    184479|      Bandhu|          Male|        1996-10-15|+91 0695289163|     Pollen allergy|           Chinsurah|Lilavati Hospital...|    Mumbai|Maharashtra|  India|\n|      H1012|    156988|  Bhagavaana|        Female|        1935-09-16|+91 6071745855|      Breast cancer|        Shahjahanpur|Bombay Hospital &...|    Mumbai|Maharashtra|  India|\n|      H1017|    132870|          NA|        Female|        1924-11-09|+91 8906694405|           Glaucoma|            Jabalpur|   Manipal Hospitals| Bengaluru|  Karnataka|  India|\n|      H1002|    148137|       Umang|        Female|        1963-07-14|+91 9485838770|        Pet allergy|            Haridwar|The Christian Med...|   Vellore| Tamil Nadu|  India|\n|      H1019|    113280|     Darsana|          Male|        1932-05-29|+91 7676311811|      Rett Syndrome|           Dibrugarh|Apollo Hospitals ...| Bengaluru|  Karnataka|  India|\n|      H1001|    134184|     Prakash|        Female|        1923-09-15|+91 9268324471|                Flu|            Kottayam|Medanta The Medicity|   Gurgaon|    Haryana|  India|\n|      H1009|    122592|  Vaijayanti|          Male|        1920-11-13|+91 9358851649|            Cholera|      Mira-Bhayandar|Indraprastha Apol...|     Delhi|        NaN|  India|\n|      H1016|    154439|    Menakshi|          Male|        1987-03-06|+91 0531676556|             Scurvy|           Kamarhati|Jaslok Hospital a...|    Mumbai|Maharashtra|  India|\n|      H1009|    117945|          NA|          Male|        1955-12-24|+91 2416747182|           Glaucoma|          Karimnagar|Indraprastha Apol...|     Delhi|        NaN|  India|\n|      H1003|    189996|       Ekant|          Male|        1943-08-13|+91 7686951174|            Measles|          Berhampore|PGIMER - Postgrad...|Chandigarh|    Haryana|  India|\n|      H1012|    146540|  Chancharik|          Male|        1983-09-05|+91 5309364825|             Scurvy|              Chapra|Bombay Hospital &...|    Mumbai|Maharashtra|  India|\n|      H1019|    156434|      Pushti|        Female|        1935-10-15|+91 7093722203|                Flu|               Morbi|Apollo Hospitals ...| Bengaluru|  Karnataka|  India|\n|      H1019|    197352|       Swati|        Female|        1987-12-11|+91 1028477510|        Pet allergy|            Amravati|Apollo Hospitals ...| Bengaluru|  Karnataka|  India|\n|      H1005|    138778|     Upasana|          Male|        1956-06-01|+91 0548234943|         Lymphedema|           Hyderabad|P. D. Hinduja Nat...|    Mumbai|Maharashtra|  India|\n|      H1009|    162665|    Kanhaiya|        Female|        1954-10-19|+91 0788738026|Alcohol consumption|              Mysore|Indraprastha Apol...|     Delhi|        NaN|  India|\n|      H1009|    197503|          NA|        Female|        1968-07-02|+91 2599794460|             Stroke|             Gwalior|Indraprastha Apol...|     Delhi|        NaN|  India|\n|      H1016|    113476|      Gensho|          Male|        1992-06-06|+91 4834040556|       Galactosemia|            Ludhiana|Jaslok Hospital a...|    Mumbai|Maharashtra|  India|\n|      H1017|    195876|       Gopal|          Male|        1986-05-14|+91 1181471524|            Vertigo|           Raebareli|   Manipal Hospitals| Bengaluru|  Karnataka|  India|\n|      H1017|    150189|     Dheeman|          Male|        1945-05-04|+91 8239321466|            Measles|              Mysore|   Manipal Hospitals| Bengaluru|  Karnataka|  India|\n|      H1004|    138861|     Upasana|        Female|        1927-10-03|            NA|       Heart Attack|              Ratlam|Apollo Hospital -...|   Chennai| Tamil Nadu|  India|\n|      H1007|    146555|          NA|          Male|        1948-11-10|+91 8390195092|    Phenylketonuria|            Vadodara|Fortis Flt. Lt. R...| New Delhi|        NaN|  India|\n|      H1017|    199114|          NA|        Female|        1955-04-07|+91 7434031446|    Phenylketonuria|          Vijayawada|   Manipal Hospitals| Bengaluru|  Karnataka|  India|\n|      H1003|    105758|   Madhubala|          Male|        1937-01-11|+91 8498685882|       Head banging|             Jaunpur|PGIMER - Postgrad...|Chandigarh|    Haryana|  India|\n|      H1001|    109251|   Anjushree|          Male|        1976-07-04|+91 5322869455|            Choking|           Ghaziabad|Medanta The Medicity|   Gurgaon|    Haryana|  India|\n|      H1012|    156223|          NA|        Female|        1930-11-25|            NA|    Fanconi anaemia|            Agartala|Bombay Hospital &...|    Mumbai|Maharashtra|  India|\n|      H1003|    108576|    Chakrika|          Male|        1964-08-05|+91 8185162879|             Stroke|              Ranchi|PGIMER - Postgrad...|Chandigarh|    Haryana|  India|\n|      H1016|    132947|       Saroj|        Female|        1942-08-26|+91 5690408243|            Anaemia|         Muzaffarpur|Jaslok Hospital a...|    Mumbai|Maharashtra|  India|\n|      H1016|    148674|   Ayushmati|          Male|        1932-09-20|+91 3683223970|           Diabetes|               Satna|Jaslok Hospital a...|    Mumbai|Maharashtra|  India|\n|      H1019|    133107|     Drashti|          Male|        1926-07-03|+91 9447269993|         Lymphedema|             Saharsa|Apollo Hospitals ...| Bengaluru|  Karnataka|  India|\n|      H1014|    193137|  Aayushmaan|        Female|        1983-11-14|+91 4464709769|    Phenylketonuria|             Mehsana|Fortis Hiranandan...|    Mumbai|Maharashtra|  India|\n|      H1017|    196369|          NA|          Male|        1931-02-04|+91 2973105946|            Choking|            Shivpuri|   Manipal Hospitals| Bengaluru|  Karnataka|  India|\n|      H1011|    109342|  Chitranjan|        Female|        1925-09-09|+91 5176024720|             Asthma|               Morbi|Sir Ganga Ram Hos...|     Delhi|        NaN|  India|\n|      H1013|    121783|     Paridhi|        Female|        1959-03-27|+91 2139280879|     Bladder cancer|            Jabalpur|Apollo Health Cit...| Hyderabad|  Telangana|  India|\n|      H1001|    197441|    Deependu|        Female|        1952-02-13|+91 5674176644|        Lung cancer|            Bareilly|Medanta The Medicity|   Gurgaon|    Haryana|  India|\n|      H1015|    194166|          NA|          Male|        1946-10-17|+91 9887324437|  Colorectal cancer|           Baranagar|Fortis Hospital M...|    Mumbai|Maharashtra|  India|\n|      H1001|    110690|     Laksman|        Female|        1939-05-26|+91 4504120828|     Food Poisoning|          Ahmednagar|Medanta The Medicity|   Gurgaon|    Haryana|  India|\n|      H1017|    180709|          NA|          Male|        1988-06-27|+91 6877897646|            Anthrax|                Pali|   Manipal Hospitals| Bengaluru|  Karnataka|  India|\n|      H1008|    119268|   Shivakari|        Female|        1944-11-02|+91 3740484063|       Mold allergy|               Hapur|King Edward Memor...|    Mumbai|Maharashtra|  India|\n|      H1008|    163148|       Madhu|          Male|        1984-10-23|+91 8367885507|           Beriberi|             Udaipur|King Edward Memor...|    Mumbai|Maharashtra|  India|\n|      H1004|    118913|      Chanak|          Male|        1954-08-27|+91 5093121123|            Malaria|           Jalandhar|Apollo Hospital -...|   Chennai| Tamil Nadu|  India|\n|      H1019|    167423|    Chittesh|          Male|        1949-10-17|+91 1378163498|             Asthma|         Thoothukudi|Apollo Hospitals ...| Bengaluru|  Karnataka|  India|\n|      H1006|    141703|       Nawal|          Male|        1940-01-22|+91 1885105576|          Fractures|              Bhopal|Breach Candy Hosp...|    Mumbai|Maharashtra|  India|\n|      H1015|    173518|    Gajabahu|          Male|        1959-03-15|+91 1207869436|            Malaria|               Udupi|Fortis Hospital M...|    Mumbai|Maharashtra|  India|\n|      H1010|    140394|      Jitesh|          Male|        1983-02-03|+91 6515468035|            Anthrax|          Karimnagar|Lilavati Hospital...|    Mumbai|Maharashtra|  India|\n|      H1015|    164524|          NA|        Female|        1966-09-25|+91 6477918745|       Mold allergy|           Kharagpur|Fortis Hospital M...|    Mumbai|Maharashtra|  India|\n|      H1017|    198182|       Lalit|        Female|        1924-02-15|+91 4647833992|       Head banging|            Tinsukia|   Manipal Hospitals| Bengaluru|  Karnataka|  India|\n|      H1001|    115143|      Anshuk|          Male|        1991-06-17|+91 9764690642|   Drug consumption|            Uluberia|Medanta The Medicity|   Gurgaon|    Haryana|  India|\n|      H1019|    156364|          NA|          Male|        1994-01-13|+91 8444537013|            Cholera|            Panihati|Apollo Hospitals ...| Bengaluru|  Karnataka|  India|\n|      H1016|    191132|      Dipesh|        Female|        1949-04-01|+91 5851958964|           Glaucoma|               Kochi|Jaslok Hospital a...|    Mumbai|Maharashtra|  India|\n|      H1008|    105686|          NA|          Male|        1930-09-01|+91 7061843400|          Hepatitis|            Kolhapur|King Edward Memor...|    Mumbai|Maharashtra|  India|\n|      H1002|    160140|      Kishan|          Male|        1923-05-12|+91 9067652693|      Rett Syndrome|          Srikakulam|The Christian Med...|   Vellore| Tamil Nadu|  India|\n|      H1014|    114252|          NA|        Female|        1927-02-26|+91 4984346995|           Diabetes|           Ambarnath|Fortis Hiranandan...|    Mumbai|Maharashtra|  India|\n|      H1017|    188365| Bhageeratha|          Male|        1973-03-21|+91 0590662722|        Pet allergy|             Sonipat|   Manipal Hospitals| Bengaluru|  Karnataka|  India|\n+-----------+----------+------------+--------------+------------------+--------------+-------------------+--------------------+--------------------+----------+-----------+-------+\n\n"
     ]
    }
   ],
   "source": [
    "join_df = pat_cleaned.join(hosp_df,on = \"hospital_id\", how = \"inner\")\n",
    "join_df.show(100)"
   ]
  },
  {
   "cell_type": "code",
   "execution_count": 0,
   "metadata": {
    "application/vnd.databricks.v1+cell": {
     "cellMetadata": {
      "byteLimit": 2048000,
      "rowLimit": 10000
     },
     "inputWidgets": {},
     "nuid": "46c2e488-9e6b-46c5-b330-ee282a1949c1",
     "showTitle": false,
     "title": ""
    }
   },
   "outputs": [
    {
     "output_type": "stream",
     "name": "stdout",
     "output_type": "stream",
     "text": [
      "+-----------+-----------------+-----+\n|hospital_id|    hospital_name|count|\n+-----------+-----------------+-----+\n|      H1017|Manipal Hospitals|    9|\n+-----------+-----------------+-----+\n\n"
     ]
    }
   ],
   "source": [
    "max_df = join_df.groupBy(\"hospital_id\",\"hospital_name\").count().orderBy(desc(\"count\")).limit(1)\n",
    "max_df.show(100)"
   ]
  },
  {
   "cell_type": "markdown",
   "metadata": {
    "application/vnd.databricks.v1+cell": {
     "cellMetadata": {
      "byteLimit": 2048000,
      "rowLimit": 10000
     },
     "inputWidgets": {},
     "nuid": "10838aae-15b9-4802-addc-ee7717d87909",
     "showTitle": false,
     "title": ""
    }
   },
   "source": [
    "####●\tFrom where most claims are coming (city)"
   ]
  },
  {
   "cell_type": "code",
   "execution_count": 0,
   "metadata": {
    "application/vnd.databricks.v1+cell": {
     "cellMetadata": {
      "byteLimit": 2048000,
      "rowLimit": 10000
     },
     "inputWidgets": {},
     "nuid": "46247b55-34f9-4056-995f-98a513d98d8b",
     "showTitle": false,
     "title": ""
    }
   },
   "outputs": [
    {
     "output_type": "stream",
     "name": "stdout",
     "output_type": "stream",
     "text": [
      "+-----------------+----------+------------+----------+--------+----------------+----------------+----------+\n|Claim_Or_Rejected|    SUB_ID|claim_amount|claim_date|claim_id|      claim_type|    disease_name|patient_id|\n+-----------------+----------+------------+----------+--------+----------------+----------------+----------+\n|                N| SUBID1000|       79874|1949-03-14|       0| claims of value|    Galactosemia|    187158|\n|               NA|SUBID10001|      151142|1970-03-16|       1|claims of policy|  Bladder cancer|    112766|\n|               NA|SUBID10002|       59924|2008-02-03|       2| claims of value|   Kidney cancer|    199252|\n|               NA|SUBID10003|      143120|1995-02-08|       3|  claims of fact|         Suicide|    133424|\n|                Y|SUBID10004|      168634|1967-05-23|       4| claims of value|    Food allergy|    172579|\n|               NA|SUBID10005|       64840|1991-10-04|       5|claims of policy|        Whiplash|    171320|\n|                N| SUBID1006|       26800|1991-03-26|       6|  claims of fact|      Sunbathing|    107794|\n|               NA|SUBID10007|      177186|1946-09-05|       7| claims of value|Drug consumption|    130339|\n|                N|SUBID10008|      141123|1966-06-20|       8|  claims of fact|          Dengue|    110377|\n|                N|SUBID10009|       88540|1945-12-29|       9| claims of value|    Head banging|    149367|\n+-----------------+----------+------------+----------+--------+----------------+----------------+----------+\nonly showing top 10 rows\n\n"
     ]
    }
   ],
   "source": [
    "claim_cleaned.show(10)"
   ]
  },
  {
   "cell_type": "code",
   "execution_count": 0,
   "metadata": {
    "application/vnd.databricks.v1+cell": {
     "cellMetadata": {
      "byteLimit": 2048000,
      "rowLimit": 10000
     },
     "inputWidgets": {},
     "nuid": "b0b9ee80-d78c-4751-90d2-38273163d38b",
     "showTitle": false,
     "title": ""
    }
   },
   "outputs": [],
   "source": [
    "sub_cleaned = sub_cleaned.withColumnRenamed(\"sub _id\", \"sub_id\")"
   ]
  },
  {
   "cell_type": "code",
   "execution_count": 0,
   "metadata": {
    "application/vnd.databricks.v1+cell": {
     "cellMetadata": {
      "byteLimit": 2048000,
      "rowLimit": 10000
     },
     "inputWidgets": {},
     "nuid": "4905deb7-e517-473f-b0d2-bb39172144a9",
     "showTitle": false,
     "title": ""
    }
   },
   "outputs": [
    {
     "output_type": "stream",
     "name": "stdout",
     "output_type": "stream",
     "text": [
      "+-----------------+----------+------------+----------+--------+----------------+----------------+----------+----------+----------+---------+-----------------+----------+------+--------------+-------+------------+--------+---------+--------+----------+----------+\n|Claim_Or_Rejected|    SUB_ID|claim_amount|claim_date|claim_id|      claim_type|    disease_name|patient_id|    sub_id|first_name|last_name|           Street|Birth_date|Gender|         Phone|Country|        City|Zip Code|Subgrp_id|Elig_ind|  eff_date| term_date|\n+-----------------+----------+------------+----------+--------+----------------+----------------+----------+----------+----------+---------+-----------------+----------+------+--------------+-------+------------+--------+---------+--------+----------+----------+\n|               NA|SUBID10001|      151142|1970-03-16|       1|claims of policy|  Bladder cancer|    112766|SUBID10001|  Brahmdev|   Sonkar|        Lala Marg|1948-12-20|Female|+91 1727749552|  India|Tiruvottiyur|   34639|     S105|       Y|1968-12-20|1970-05-16|\n|               NA|SUBID10002|       59924|2008-02-03|       2| claims of value|   Kidney cancer|    199252|SUBID10002|   Ujjawal|     Devi|      Mammen Zila|1980-04-16|  Male|+91 8547451606|  India|   Berhampur|  914455|     S106|       N|2000-04-16|2008-05-04|\n|               NA|SUBID10003|      143120|1995-02-08|       3|  claims of fact|         Suicide|    133424|SUBID10003|   Ballari|   Mishra|       Sahni Zila|1969-09-25|Female|+91 0106026841|  India|Bihar Sharif|   91481|     S104|       N|1989-09-25|1995-06-05|\n|                Y|SUBID10004|      168634|1967-05-23|       4| claims of value|    Food allergy|    172579|SUBID10004|   Devnath|Srivastav|       Magar Zila|1946-05-01|Female|+91 1868774631|  India| Bidhannagar|  531742|     S110|       N|1966-05-01|1970-12-09|\n|               NA|SUBID10005|       64840|1991-10-04|       5|claims of policy|        Whiplash|    171320|SUBID10005|     Atasi|     Seth|     Khatri Nagar|1967-10-02|  Male|+91 9747336855|  India|    Amravati|  229062|     S104|       Y|1987-10-02|1995-02-13|\n|                N| SUBID1006|       26800|1991-03-26|       6|  claims of fact|      Sunbathing|    107794| SUBID1006|    Manish|   Maurya|Swaminathan Chowk|1967-06-06|  Male|+91 4354294043|  India|      Panvel|  438733|     S109|      NA|1987-06-06|1995-03-21|\n|               NA|SUBID10007|      177186|1946-09-05|       7| claims of value|Drug consumption|    130339|SUBID10007|     Aakar|    Yadav|            Swamy|1925-03-05|Female|+91 2777633911|  India|Bihar Sharif|  535907|     S104|       N|1945-03-05|1946-11-07|\n|                N|SUBID10008|      141123|1966-06-20|       8|  claims of fact|          Dengue|    110377|SUBID10008|   Gurudas|    Gupta|      Sarin Nagar|1945-05-06|  Male|+91 1232859381|  India|   Kamarhati|  933226|     S103|       Y|1965-05-06|1970-09-16|\n|                N|SUBID10009|       88540|1945-12-29|       9| claims of value|    Head banging|    149367|SUBID10009|        NA|    Gupta|    Thakur Circle|1925-06-12|  Male|+91 1780763280|  India|   Bangalore|  957469|     S105|       Y|1945-06-12|1953-08-30|\n|                N| SUBID1010|       29150|1999-01-25|      10| claims of value| Fanconi anaemia|    156168| SUBID1010|        NA|   Divedi|          Dhillon|1976-02-03|  Male|+91 5586075345|  India|      Rajkot|  911319|     S102|       Y|1996-02-03|2002-01-27|\n+-----------------+----------+------------+----------+--------+----------------+----------------+----------+----------+----------+---------+-----------------+----------+------+--------------+-------+------------+--------+---------+--------+----------+----------+\nonly showing top 10 rows\n\n"
     ]
    }
   ],
   "source": [
    "join1_df = claim_cleaned.join(sub_cleaned, claim_cleaned.SUB_ID == sub_cleaned.sub_id, how = \"inner\")\n",
    "join1_df.show(10)"
   ]
  },
  {
   "cell_type": "code",
   "execution_count": 0,
   "metadata": {
    "application/vnd.databricks.v1+cell": {
     "cellMetadata": {
      "byteLimit": 2048000,
      "rowLimit": 10000
     },
     "inputWidgets": {},
     "nuid": "97fb3c85-5c90-4004-ab78-c2c1d532e49d",
     "showTitle": false,
     "title": ""
    }
   },
   "outputs": [
    {
     "output_type": "stream",
     "name": "stdout",
     "output_type": "stream",
     "text": [
      "+------+-----------+\n|  City|claim_count|\n+------+-----------+\n|Mysore|          2|\n+------+-----------+\n\n"
     ]
    }
   ],
   "source": [
    "most_claims_city = join1_df.groupBy(\"City\").agg({'claim_id': 'count'}).withColumnRenamed('count(claim_id)', 'claim_count')\n",
    "most_claims_city = most_claims_city.orderBy(col(\"claim_count\").desc()).limit(1)\n",
    "most_claims_city.show()"
   ]
  },
  {
   "cell_type": "markdown",
   "metadata": {
    "application/vnd.databricks.v1+cell": {
     "cellMetadata": {},
     "inputWidgets": {},
     "nuid": "0b1f9b1f-3251-4bd5-b94b-a46e4912672a",
     "showTitle": false,
     "title": ""
    }
   },
   "source": [
    "####●\tList all the patients below age of 18 who are admitted for cancer"
   ]
  },
  {
   "cell_type": "code",
   "execution_count": 0,
   "metadata": {
    "application/vnd.databricks.v1+cell": {
     "cellMetadata": {
      "byteLimit": 2048000,
      "rowLimit": 10000
     },
     "inputWidgets": {},
     "nuid": "620d91a5-4776-4703-8104-282475f1698a",
     "showTitle": false,
     "title": ""
    }
   },
   "outputs": [
    {
     "output_type": "stream",
     "name": "stdout",
     "output_type": "stream",
     "text": [
      "+--------+-----------+------------+\n|SubGrpID| Disease_ID|Disease_name|\n+--------+-----------+------------+\n|    S101|     110001|    Beriberi|\n|    S101|     110002|      Scurvy|\n|    S101|     110003|      Goitre|\n|    S101|     110004|Osteoporosis|\n|    S101|     110005|     Rickets|\n|    S101|     110006|     Anaemia|\n|    S102|     110007|   Fractures|\n|    S102|     110008|Heart Attack|\n|    S102|     110009|       Burns|\n|    S102|     110010|     Choking|\n+--------+-----------+------------+\nonly showing top 10 rows\n\n"
     ]
    }
   ],
   "source": [
    "dis_df.show(10)"
   ]
  },
  {
   "cell_type": "code",
   "execution_count": 0,
   "metadata": {
    "application/vnd.databricks.v1+cell": {
     "cellMetadata": {
      "byteLimit": 2048000,
      "rowLimit": 10000
     },
     "inputWidgets": {},
     "nuid": "74213713-4231-40a4-9de1-7400ebe1d157",
     "showTitle": false,
     "title": ""
    }
   },
   "outputs": [],
   "source": [
    "from pyspark.sql.functions import current_date, datediff,lit, round\n",
    "\n",
    "pat_cleaned= pat_cleaned.withColumn(\"patient_age\", round(datediff(current_date(), \"patient_birth_date\") / lit(365)))\n",
    "\n",
    "pat_cleaned = pat_cleaned.withColumn(\"patient_age\", pat_cleaned[\"patient_age\"].cast(\"int\"))"
   ]
  },
  {
   "cell_type": "code",
   "execution_count": 0,
   "metadata": {
    "application/vnd.databricks.v1+cell": {
     "cellMetadata": {
      "byteLimit": 2048000,
      "rowLimit": 10000
     },
     "inputWidgets": {},
     "nuid": "a9fb55fc-91ce-4a5d-9809-8977da9b508b",
     "showTitle": false,
     "title": ""
    }
   },
   "outputs": [
    {
     "output_type": "stream",
     "name": "stdout",
     "output_type": "stream",
     "text": [
      "+----------------+----------+------------+--------------+------------------+--------------+--------------------+-----------+-----------+--------+-----------+\n|    disease_name|Patient_id|Patient_name|patient_gender|patient_birth_date| patient_phone|                city|hospital_id|patient_age|SubGrpID| Disease_ID|\n+----------------+----------+------------+--------------+------------------+--------------+--------------------+-----------+-----------+--------+-----------+\n|    Galactosemia|    187158|      Harbir|        Female|        1924-06-30|+91 0112009318|            Rourkela|      H1001|        100|    S109|     110052|\n|  Bladder cancer|    112766|    Brahmdev|        Female|        1948-12-20|+91 1727749552|        Tiruvottiyur|      H1016|         75|    S107|     110039|\n|   Kidney cancer|    199252|     Ujjawal|          Male|        1980-04-16|+91 8547451606|           Berhampur|      H1009|         44|    S107|     110037|\n|         Suicide|    133424|     Ballari|        Female|        1969-09-25|+91 0106026841|        Bihar Sharif|      H1017|         54|    S106|     110031|\n|    Food allergy|    172579|     Devnath|        Female|        1946-05-01|+91 1868774631|         Bidhannagar|      H1019|         78|    S105|     110030|\n|        Whiplash|    171320|       Atasi|          Male|        1967-10-02|+91 9747336855|            Amravati|      H1013|         56|    S104|     110023|\n|      Sunbathing|    107794|      Manish|          Male|        1967-06-06|+91 4354294043|              Panvel|      H1004|         57|    S106|     110033|\n|Drug consumption|    130339|       Aakar|        Female|        1925-03-05|+91 2777633911|        Bihar Sharif|      H1000|         99|    S106|     110036|\n|          Dengue|    110377|     Gurudas|          Male|        1945-05-06|+91 1232859381|           Kamarhati|      H1001|         79|    S108|     110044|\n|    Head banging|    149367|          NA|          Male|        1925-06-12|+91 1780763280|           Bangalore|      H1013|         99|    S106|     110035|\n| Fanconi anaemia|    156168|          NA|          Male|        1976-02-03|+91 5586075345|              Rajkot|      H1004|         48|    S109|     110050|\n|   Breast cancer|    114241|          NA|        Female|        1955-01-22|+91 4146391938|           Ghaziabad|      H1015|         69|    S107|     110042|\n|         Anthrax|    146382|  Dharmadaas|          Male|        1964-04-29|+91 6345482027|Bhalswa Jahangir Pur|      H1019|         60|    S108|     110046|\n| Cystic fibrosis|    132748|    Brahmvir|          Male|        1991-11-11|+91 7316972612|              Ambala|      H1018|         32|    S109|     110049|\n|    Galactosemia|    167340|          NA|        Female|        1981-01-25|+91 2960004518|Surendranagar Dud...|      H1003|         43|    S109|     110052|\n|          Dengue|    135184|     Bhagvan|        Female|        1966-07-24|+91 0297693485|          Bhimavaram|      H1018|         57|    S108|     110044|\n|        Smallpox|    179662|   Amritkala|        Female|        1933-11-20|+91 0537157280|              Meerut|      H1018|         90|    S108|     110045|\n|  Pollen allergy|    184479|      Bandhu|          Male|        1996-10-15|+91 0695289163|           Chinsurah|      H1010|         27|    S105|     110028|\n|   Breast cancer|    156988|  Bhagavaana|        Female|        1935-09-16|+91 6071745855|        Shahjahanpur|      H1012|         88|    S107|     110042|\n|        Glaucoma|    132870|          NA|        Female|        1924-11-09|+91 8906694405|            Jabalpur|      H1017|         99|    S103|     110014|\n+----------------+----------+------------+--------------+------------------+--------------+--------------------+-----------+-----------+--------+-----------+\nonly showing top 20 rows\n\n"
     ]
    }
   ],
   "source": [
    "join2_df = pat_cleaned.join(dis_df, on = \"disease_name\", how = \"inner\")\n",
    "join2_df.show()"
   ]
  },
  {
   "cell_type": "code",
   "execution_count": 0,
   "metadata": {
    "application/vnd.databricks.v1+cell": {
     "cellMetadata": {
      "byteLimit": 2048000,
      "rowLimit": 10000
     },
     "inputWidgets": {},
     "nuid": "0eaf554b-6dbd-4557-a2d4-b1ff2c604a8e",
     "showTitle": false,
     "title": ""
    }
   },
   "outputs": [
    {
     "output_type": "stream",
     "name": "stdout",
     "output_type": "stream",
     "text": [
      "+------------+-----------+\n|patient_name|patient_age|\n+------------+-----------+\n+------------+-----------+\n\n+------------+-----------+\n|patient_name|patient_age|\n+------------+-----------+\n|    Brahmdev|         75|\n|          NA|         69|\n|     Paridhi|         65|\n|    Deependu|         72|\n|          NA|         77|\n+------------+-----------+\n\n"
     ]
    }
   ],
   "source": [
    "\n",
    "\n",
    "join2_df.createOrReplaceTempView(\"patients_view\")\n",
    "\n",
    "young_cancer_patients_sql = spark.sql(\"\"\"SELECT patient_name, patient_age \n",
    "                                      FROM patients_view \n",
    "                                      WHERE patient_age < 18 AND disease_name LIKE 'cancer'\"\"\")\n",
    "\n",
    "young_cancer_patients_sql.show()\n",
    "\n",
    "#List all the patients between the age of 60 & 80 who are admitted for cancer\n",
    "\n",
    "elder_cancer_patients_sql = spark.sql(\"\"\"SELECT patient_name, patient_age \n",
    "                                        FROM patients_view \n",
    "                                        WHERE patient_age BETWEEN 60 AND 80 AND disease_name LIKE'%cancer%'\"\"\")\n",
    "\n",
    "elder_cancer_patients_sql.show()\n"
   ]
  },
  {
   "cell_type": "markdown",
   "metadata": {
    "application/vnd.databricks.v1+cell": {
     "cellMetadata": {},
     "inputWidgets": {},
     "nuid": "0ffbcc83-2da9-4de0-a11d-eaf9d7fd32bd",
     "showTitle": false,
     "title": ""
    }
   },
   "source": [
    "####●\tList female patients over the age of 40 that have undergone knee surgery in the past 5 years"
   ]
  },
  {
   "cell_type": "code",
   "execution_count": 0,
   "metadata": {
    "application/vnd.databricks.v1+cell": {
     "cellMetadata": {
      "byteLimit": 2048000,
      "rowLimit": 10000
     },
     "inputWidgets": {},
     "nuid": "63896262-693b-4d07-8f46-5dac0255a5a0",
     "showTitle": false,
     "title": ""
    }
   },
   "outputs": [
    {
     "output_type": "stream",
     "name": "stdout",
     "output_type": "stream",
     "text": [
      "+----------------+----------+------------+--------------+------------------+--------------+------------+-----------+-----------+--------+-----------+-----------------+----------+------------+----------+--------+----------------+----------+----------+\n|    disease_name|Patient_id|Patient_name|patient_gender|patient_birth_date| patient_phone|        city|hospital_id|patient_age|SubGrpID| Disease_ID|Claim_Or_Rejected|    SUB_ID|claim_amount|claim_date|claim_id|      claim_type|patient_id|claim_year|\n+----------------+----------+------------+--------------+------------------+--------------+------------+-----------+-----------+--------+-----------+-----------------+----------+------------+----------+--------+----------------+----------+----------+\n|    Galactosemia|    187158|      Harbir|        Female|        1924-06-30|+91 0112009318|    Rourkela|      H1001|        100|    S109|     110052|               NA|SUBID10033|      161199|2019-11-17|      33| claims of value|    113476|      2019|\n|    Galactosemia|    187158|      Harbir|        Female|        1924-06-30|+91 0112009318|    Rourkela|      H1001|        100|    S109|     110052|                N|SUBID10014|      118628|2003-12-18|      14| claims of value|    167340|      2003|\n|    Galactosemia|    187158|      Harbir|        Female|        1924-06-30|+91 0112009318|    Rourkela|      H1001|        100|    S109|     110052|                N| SUBID1000|       79874|1949-03-14|       0| claims of value|    187158|      1949|\n|  Bladder cancer|    112766|    Brahmdev|        Female|        1948-12-20|+91 1727749552|Tiruvottiyur|      H1016|         75|    S107|     110039|               NA|SUBID10049|      159815|1983-06-20|      49|  claims of fact|    121783|      1983|\n|  Bladder cancer|    112766|    Brahmdev|        Female|        1948-12-20|+91 1727749552|Tiruvottiyur|      H1016|         75|    S107|     110039|               NA|SUBID10001|      151142|1970-03-16|       1|claims of policy|    112766|      1970|\n|   Kidney cancer|    199252|     Ujjawal|          Male|        1980-04-16|+91 8547451606|   Berhampur|      H1009|         44|    S107|     110037|               NA|SUBID10002|       59924|2008-02-03|       2| claims of value|    199252|      2008|\n|         Suicide|    133424|     Ballari|        Female|        1969-09-25|+91 0106026841|Bihar Sharif|      H1017|         54|    S106|     110031|               NA|SUBID10003|      143120|1995-02-08|       3|  claims of fact|    133424|      1995|\n|    Food allergy|    172579|     Devnath|        Female|        1946-05-01|+91 1868774631| Bidhannagar|      H1019|         78|    S105|     110030|                Y|SUBID10004|      168634|1967-05-23|       4| claims of value|    172579|      1967|\n|        Whiplash|    171320|       Atasi|          Male|        1967-10-02|+91 9747336855|    Amravati|      H1013|         56|    S104|     110023|               NA|SUBID10005|       64840|1991-10-04|       5|claims of policy|    171320|      1991|\n|      Sunbathing|    107794|      Manish|          Male|        1967-06-06|+91 4354294043|      Panvel|      H1004|         57|    S106|     110033|                N| SUBID1006|       26800|1991-03-26|       6|  claims of fact|    107794|      1991|\n|Drug consumption|    130339|       Aakar|        Female|        1925-03-05|+91 2777633911|Bihar Sharif|      H1000|         99|    S106|     110036|                Y| SUBID1063|      158255|2014-01-10|      63|claims of policy|    115143|      2014|\n|Drug consumption|    130339|       Aakar|        Female|        1925-03-05|+91 2777633911|Bihar Sharif|      H1000|         99|    S106|     110036|               NA|SUBID10007|      177186|1946-09-05|       7| claims of value|    130339|      1946|\n|          Dengue|    110377|     Gurudas|          Male|        1945-05-06|+91 1232859381|   Kamarhati|      H1001|         79|    S108|     110044|                Y|SUBID10015|      100224|1986-08-02|      15| claims of value|    135184|      1986|\n|          Dengue|    110377|     Gurudas|          Male|        1945-05-06|+91 1232859381|   Kamarhati|      H1001|         79|    S108|     110044|                N|SUBID10008|      141123|1966-06-20|       8|  claims of fact|    110377|      1966|\n|    Head banging|    149367|          NA|          Male|        1925-06-12|+91 1780763280|   Bangalore|      H1013|         99|    S106|     110035|                Y| SUBID1062|       71703|1945-10-24|      62| claims of value|    198182|      1945|\n|    Head banging|    149367|          NA|          Male|        1925-06-12|+91 1780763280|   Bangalore|      H1013|         99|    S106|     110035|               NA|SUBID10039|      108526|1960-05-09|      39|  claims of fact|    105758|      1960|\n|    Head banging|    149367|          NA|          Male|        1925-06-12|+91 1780763280|   Bangalore|      H1013|         99|    S106|     110035|                N|SUBID10009|       88540|1945-12-29|       9| claims of value|    149367|      1945|\n| Fanconi anaemia|    156168|          NA|          Male|        1976-02-03|+91 5586075345|      Rajkot|      H1004|         48|    S109|     110050|               NA| SUBID1041|      118452|1955-10-11|      41|  claims of fact|    156223|      1955|\n| Fanconi anaemia|    156168|          NA|          Male|        1976-02-03|+91 5586075345|      Rajkot|      H1004|         48|    S109|     110050|                N| SUBID1010|       29150|1999-01-25|      10| claims of value|    156168|      1999|\n|   Breast cancer|    114241|          NA|        Female|        1955-01-22|+91 4146391938|   Ghaziabad|      H1015|         69|    S107|     110042|               NA|SUBID10018|       66129|1956-01-04|      18|  claims of fact|    156988|      1956|\n+----------------+----------+------------+--------------+------------------+--------------+------------+-----------+-----------+--------+-----------+-----------------+----------+------------+----------+--------+----------------+----------+----------+\nonly showing top 20 rows\n\n"
     ]
    }
   ],
   "source": [
    "from pyspark.sql.functions import year\n",
    "\n",
    "claim_cleaned = claim_cleaned.withColumn(\"claim_year\", year(\"claim_date\"))\n",
    "\n",
    "join3_df = join2_df.join(claim_cleaned, \"disease_name\",\"inner\")\n",
    "join3_df.show()"
   ]
  },
  {
   "cell_type": "code",
   "execution_count": 0,
   "metadata": {
    "application/vnd.databricks.v1+cell": {
     "cellMetadata": {
      "byteLimit": 2048000,
      "rowLimit": 10000
     },
     "inputWidgets": {},
     "nuid": "17ee3cbc-a361-4f5d-81c9-de9c653e8d7f",
     "showTitle": false,
     "title": ""
    }
   },
   "outputs": [
    {
     "output_type": "stream",
     "name": "stdout",
     "output_type": "stream",
     "text": [
      "+------------+-----------+------------+------------+\n|patient_name|patient_age|disease_name|Surgery_year|\n+------------+-----------+------------+------------+\n+------------+-----------+------------+------------+\n\n"
     ]
    }
   ],
   "source": [
    "join3_df.createOrReplaceTempView(\"fem_knee_surgeries\")\n",
    "\n",
    "knee_claims_sql = spark.sql(\"\"\"\n",
    "                            SELECT f.patient_name, f.patient_age, f.disease_name,f.Claim_year AS Surgery_year\n",
    "                                FROM fem_knee_surgeries f \n",
    "                                WHERE f.claim_year >= year(current_date()) - 5\n",
    "                                AND f.patient_age > 40\n",
    "                                AND f.patient_gender = 'female'\n",
    "                                AND f.disease_name LIKE '%surgery%'\n",
    "                            \"\"\")\n",
    "knee_claims_sql.show()"
   ]
  },
  {
   "cell_type": "markdown",
   "metadata": {
    "application/vnd.databricks.v1+cell": {
     "cellMetadata": {},
     "inputWidgets": {},
     "nuid": "72d3f15d-383e-4ae8-81ae-469c8f43c8f6",
     "showTitle": false,
     "title": ""
    }
   },
   "source": [
    "####●\tWhich groups of policies subscriber subscribe mostly Government or private"
   ]
  },
  {
   "cell_type": "code",
   "execution_count": 0,
   "metadata": {
    "application/vnd.databricks.v1+cell": {
     "cellMetadata": {
      "byteLimit": 2048000,
      "rowLimit": 10000
     },
     "inputWidgets": {},
     "nuid": "d49bd906-1d8f-455f-97c2-5127deaa0a7c",
     "showTitle": false,
     "title": ""
    }
   },
   "outputs": [
    {
     "output_type": "stream",
     "name": "stdout",
     "output_type": "stream",
     "text": [
      "+------+---------+----------+----------+-----------+-----------+----------+------+--------------+-------+------------+--------+--------+----------+----------+--------------+---------------+-------+---------------+-------+--------------------+--------+-------+----+\n|Grp_Id|Subgrp_id|    sub_id|first_name|  last_name|     Street|Birth_date|Gender|         Phone|Country|        City|Zip Code|Elig_ind|  eff_date| term_date|   SubGrp_Name|Monthly_Premium|Country|premium_written|zipcode|            Grp_Name|Grp_Type|   city|year|\n+------+---------+----------+----------+-----------+-----------+----------+------+--------------+-------+------------+--------+--------+----------+----------+--------------+---------------+-------+---------------+-------+--------------------+--------+-------+----+\n|GRP121|     S107|SUBID10000|    Harbir|Vishwakarma| Baria Marg|1924-06-30|Female|+91 0112009318|  India|    Rourkela|  767058|       Y|1944-06-30|1954-01-14|        Cancer|           3200|  India|          78000| 482039|Pramerica Life In...| Private| Mumbai|2008|\n|GRP141|     S107|SUBID10000|    Harbir|Vishwakarma| Baria Marg|1924-06-30|Female|+91 0112009318|  India|    Rourkela|  767058|       Y|1944-06-30|1954-01-14|        Cancer|           3200|  India|          71000| 482049|Kotak Mahindra Ge...| Private| Mumbai|2015|\n|GRP131|     S107|SUBID10000|    Harbir|Vishwakarma| Baria Marg|1924-06-30|Female|+91 0112009318|  India|    Rourkela|  767058|       Y|1944-06-30|1954-01-14|        Cancer|           3200|  India|          99000| 482005|Cholamandalam MS ...| Private|Chennai|2001|\n|GRP151|     S107|SUBID10000|    Harbir|Vishwakarma| Baria Marg|1924-06-30|Female|+91 0112009318|  India|    Rourkela|  767058|       Y|1944-06-30|1954-01-14|        Cancer|           3200|  India|          31000| 482044|Royal Sundaram Ge...| Private|Chennai|2000|\n|GRP124|     S105|SUBID10001|  Brahmdev|     Sonkar|  Lala Marg|1948-12-20|Female|+91 1727749552|  India|Tiruvottiyur|   34639|       Y|1968-12-20|1970-05-16|     Allergies|           2300|  India|          81000| 482033|Edelweiss Tokio L...| Private| Mumbai|2011|\n|GRP114|     S105|SUBID10001|  Brahmdev|     Sonkar|  Lala Marg|1948-12-20|Female|+91 1727749552|  India|Tiruvottiyur|   34639|       Y|1968-12-20|1970-05-16|     Allergies|           2300|  India|          33000| 482043|Sahara India Life...| Private|Lucknow|2004|\n|GRP104|     S105|SUBID10001|  Brahmdev|     Sonkar|  Lala Marg|1948-12-20|Female|+91 1727749552|  India|Tiruvottiyur|   34639|       Y|1968-12-20|1970-05-16|     Allergies|           2300|  India|          59000| 482028|ICICI Prudential ...| Private| Mumbai|2000|\n|GRP153|     S105|SUBID10001|  Brahmdev|     Sonkar|  Lala Marg|1948-12-20|Female|+91 1727749552|  India|Tiruvottiyur|   34639|       Y|1968-12-20|1970-05-16|     Allergies|           2300|  India|          86000| 482004|Shriram General I...| Private| Jaipur|2008|\n|GRP157|     S106|SUBID10002|   Ujjawal|       Devi|Mammen Zila|1980-04-16|  Male|+91 8547451606|  India|   Berhampur|  914455|       N|2000-04-16|2008-05-04|Self inflicted|           1200|  India|          92000| 482019|United India Insu...|   Govt.|Chennai|1938|\n|GRP147|     S106|SUBID10002|   Ujjawal|       Devi|Mammen Zila|1980-04-16|  Male|+91 8547451606|  India|   Berhampur|  914455|       N|2000-04-16|2008-05-04|Self inflicted|           1200|  India|          99000| 482040|Raheja QBE Genera...| Private| Mumbai|2007|\n+------+---------+----------+----------+-----------+-----------+----------+------+--------------+-------+------------+--------+--------+----------+----------+--------------+---------------+-------+---------------+-------+--------------------+--------+-------+----+\nonly showing top 10 rows\n\n"
     ]
    }
   ],
   "source": [
    "join4 = sub_cleaned.join(sbg_df,\"Subgrp_id\",\"inner\")\n",
    "join5 = join4.join(grp_df,\"Subgrp_id\",\"inner\")\n",
    "join6 = join5.join(gp_df,\"grp_id\",\"inner\")\n",
    "join6.show(10)"
   ]
  },
  {
   "cell_type": "code",
   "execution_count": 0,
   "metadata": {
    "application/vnd.databricks.v1+cell": {
     "cellMetadata": {
      "byteLimit": 2048000,
      "rowLimit": 10000
     },
     "inputWidgets": {},
     "nuid": "24b6ae80-c9aa-4f5e-917f-a0ec7643a952",
     "showTitle": false,
     "title": ""
    }
   },
   "outputs": [
    {
     "output_type": "stream",
     "name": "stdout",
     "output_type": "stream",
     "text": [
      "+-----------------+--------+--------------+\n|subscriber_Gender|grp_type|grp_type_count|\n+-----------------+--------+--------------+\n|           Female|   Govt.|            16|\n|           Female| Private|           139|\n|             Male|   Govt.|            18|\n|             Male| Private|           175|\n|           Others|   Govt.|             1|\n|           Others| Private|            24|\n+-----------------+--------+--------------+\n\n"
     ]
    }
   ],
   "source": [
    "join6.createOrReplaceTempView(\"grp_type_view\")\n",
    "grp_type_sql = spark.sql(\"\"\"\n",
    "    SELECT gender AS subscriber_Gender,grp_type, COUNT(*) AS grp_type_count\n",
    "    FROM grp_type_view\n",
    "    GROUP BY gender,grp_type\n",
    "    ORDER BY gender\n",
    "\"\"\")\n",
    "grp_type_sql.show()\n"
   ]
  },
  {
   "cell_type": "code",
   "execution_count": 0,
   "metadata": {
    "application/vnd.databricks.v1+cell": {
     "cellMetadata": {},
     "inputWidgets": {},
     "nuid": "305fadb3-e6f4-4f7f-b7d2-8066fbc3c936",
     "showTitle": false,
     "title": ""
    }
   },
   "outputs": [],
   "source": []
  }
 ],
 "metadata": {
  "application/vnd.databricks.v1+notebook": {
   "dashboards": [],
   "language": "python",
   "notebookMetadata": {
    "pythonIndentUnit": 4
   },
   "notebookName": "Result Generation Module_submission",
   "widgets": {}
  }
 },
 "nbformat": 4,
 "nbformat_minor": 0
}
